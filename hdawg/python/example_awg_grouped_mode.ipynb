{
 "cells": [
  {
   "cell_type": "markdown",
   "id": "a892a27c",
   "metadata": {},
   "source": [
    "# Zurich Instruments LabOne Python API Example\n",
    "## Control the HDAWG in grouped mode\n",
    "\n",
    "Demonstrate how to connect to a Zurich Instruments HDAWG in grouped mode. The grouped mode allows to control multiple \n",
    "AWG outputs with a single sequencer program.\n",
    "\n",
    "Requirements:\n",
    "* LabOne Version >= 22.08\n",
    "* Instruments:\n",
    "    1 x HDAWG Instrument\n",
    "\n",
    "---"
   ]
  },
  {
   "cell_type": "code",
   "execution_count": null,
   "id": "7856771c",
   "metadata": {},
   "outputs": [],
   "source": [
    "import textwrap\n",
    "import numpy as np\n",
    "import time\n",
    "import json, jsonschema\n",
    "\n",
    "import zhinst.core\n",
    "import zhinst.utils"
   ]
  },
  {
   "cell_type": "markdown",
   "id": "454ad5b8",
   "metadata": {},
   "source": [
    "Set up the connection. The connection is always through a session to a\n",
    "Data Server. The Data Server then connects to the device.\n",
    "\n",
    "The LabOne Data Server needs to run within the network, either on localhost when\n",
    "starting LabOne on your local computer or a remote server."
   ]
  },
  {
   "cell_type": "code",
   "execution_count": null,
   "id": "c0a547b9",
   "metadata": {},
   "outputs": [],
   "source": [
    "device_id = \"dev8293\"  # Device serial number available on its rear panel.\n",
    "interface = \"1GbE\"  # For Ethernet connection.\n",
    "# interface = \"USB\" # For all instruments connected to the host computer via USB.\n",
    "\n",
    "server_host = \"localhost\"\n",
    "server_port = 8004\n",
    "api_level = 6  # Maximum API level supported for all instruments.\n",
    "\n",
    "# Create an API session to the Data Server.\n",
    "daq = zhinst.core.ziDAQServer(server_host, server_port, api_level)\n",
    "# Establish a connection between Data Server and Device.\n",
    "daq.connectDevice(device_id, interface)\n",
    "\n",
    "# Create a base configuration: disable all available outputs, awgs,...\n",
    "daq.syncSetInt(f\"/{device_id}/system/preset/load\", 1)\n",
    "zhinst.utils.wait_for_state_change(daq, f\"/{device_id:s}/system/preset/busy\", 0, timeout = 2.0)"
   ]
  },
  {
   "cell_type": "markdown",
   "id": "a6259863",
   "metadata": {},
   "source": [
    "### Basic configuration\n",
    "In this example the device is configured to control groups of 4 outputs with a single sequencer program (channel grouping 1). It is also possible to control groups of 2 outputs (channel grouping 0) or 8 outputs (channel grouping 2).\n",
    "\n",
    "After specifying the grouping mode, specify which group to use and set the output gains for each AWG core in the group. Then set the output range for each channel in the group and switch the channels on."
   ]
  },
  {
   "cell_type": "code",
   "execution_count": null,
   "id": "a357f069",
   "metadata": {},
   "outputs": [],
   "source": [
    "grouping = 1        # Channel grouping 2x4\n",
    "awg_group = 0       # AWG group\n",
    "output_range = 1.0  # Output range [V]\n",
    "\n",
    "awg_cores = awg_group * 2**grouping + np.arange(2**grouping)        # AWG cores\n",
    "channels = awg_group * 2**(grouping+1) + np.arange(2**(grouping+1)) # Output channels\n",
    "\n",
    "# Grouping mode\n",
    "exp_setting = [\n",
    "    [f\"/{device_id:s}/system/awg/channelgrouping\", grouping]          \n",
    "]\n",
    "\n",
    "# Per-core settings\n",
    "for awg_core in awg_cores:\n",
    "    exp_setting_core = [\n",
    "        [f\"/{device_id:s}/awgs/{awg_core:d}/outputs/0/gains/0\", 1.0],         # Set the output gains matrix to identity\n",
    "        [f\"/{device_id:s}/awgs/{awg_core:d}/outputs/0/gains/1\", 0.0],         \n",
    "        [f\"/{device_id:s}/awgs/{awg_core:d}/outputs/1/gains/0\", 0.0],         \n",
    "        [f\"/{device_id:s}/awgs/{awg_core:d}/outputs/1/gains/1\", 1.0],\n",
    "        [f\"/{device_id:s}/awgs/{awg_core:d}/outputs/0/modulation/mode\", 0],   # Turn off modulation mode\n",
    "        [f\"/{device_id:s}/awgs/{awg_core:d}/outputs/1/modulation/mode\", 0]\n",
    "    ]\n",
    "    exp_setting.extend(exp_setting_core)\n",
    "\n",
    "# Per-channel settings\n",
    "for channel in channels:\n",
    "    exp_setting_ch = [\n",
    "        [f\"/{device_id:s}/sigouts/{channel:d}/range\", output_range],    # Select the output range\n",
    "        [f\"/{device_id:s}/sigouts/{channel:d}/on\", True]                # Turn on the outputs. Should be the last setting\n",
    "    ]\n",
    "    exp_setting.extend(exp_setting_ch)\n",
    "\n",
    "# Upload settings to the device in a transaction\n",
    "daq.set(exp_setting)"
   ]
  },
  {
   "cell_type": "markdown",
   "id": "cbfe42ed",
   "metadata": {},
   "source": [
    "### AWG sequencer program\n",
    "Define an AWG program as a string stored in the variable `awg_program`, equivalent to what would be entered in the Sequence Editor window in the graphical UI. Differently to a self-contained program, this example refers to a command table by the instruction `executeTableEntry`, and to placeholder waveforms `p1`, `p2`, `p3`, `p4` by the instruction `placeholder`. Both the command table and the waveform data for the placeholders need to be uploaded separately before this sequence program can be run.\n",
    "\n",
    "After defining the sequencer program, this must be compiled before being uploaded. The function `compile_seqc` of `zhinst-utils`, which is the preferred tool for compiling AWG programs, does not support working with the grouped mode. For this reason, in this example the compilation must be done using the LabOne module `awgModule`."
   ]
  },
  {
   "cell_type": "code",
   "execution_count": null,
   "id": "299722ed",
   "metadata": {},
   "outputs": [],
   "source": [
    "wfm_index = 0\n",
    "wfm_length = 1024\n",
    "awg_program = textwrap.dedent(\n",
    "    f\"\"\"\\\n",
    "    // Define placeholder with 1024 samples:\n",
    "    wave p1 = placeholder({wfm_length:d});\n",
    "    wave p2 = placeholder({wfm_length:d});\n",
    "    wave p3 = placeholder({wfm_length:d});\n",
    "    wave p4 = placeholder({wfm_length:d});\n",
    "\n",
    "    // Assign an index to the placeholder waveform\n",
    "    assignWaveIndex(1,p1, 2,p2, {wfm_index:d});\n",
    "    assignWaveIndex(3,p3, 4,p4, {wfm_index:d});\n",
    "\n",
    "    while(true) {{\n",
    "      executeTableEntry(0);\n",
    "    }}\n",
    "    \"\"\"\n",
    ")"
   ]
  },
  {
   "cell_type": "markdown",
   "id": "8251906d",
   "metadata": {},
   "source": [
    "Compile and upload the AWG program to the device using the AWG Module."
   ]
  },
  {
   "cell_type": "code",
   "execution_count": null,
   "id": "054381da",
   "metadata": {},
   "outputs": [],
   "source": [
    "# Create an instance of the AWG Module\n",
    "awgModule = daq.awgModule()\n",
    "awgModule.set(\"device\", device_id)\n",
    "awgModule.set(\"index\", awg_group)\n",
    "awgModule.execute()\n",
    "\n",
    "# Transfer the AWG sequencer program. Compilation starts automatically.\n",
    "awgModule.set(\"compiler/sourcestring\", awg_program)"
   ]
  },
  {
   "cell_type": "markdown",
   "id": "bba19db2",
   "metadata": {},
   "source": [
    "Check that the sequencer program was compiled and uploaded correctly. This is not mandatory, but only to ensure that the script can continue with the next steps."
   ]
  },
  {
   "cell_type": "code",
   "execution_count": null,
   "id": "8955e09d",
   "metadata": {},
   "outputs": [],
   "source": [
    "# Wait until compilation is done\n",
    "timeout = 10  # seconds\n",
    "start = time.time()\n",
    "compiler_status = awgModule.getInt(\"compiler/status\")\n",
    "while compiler_status == -1:\n",
    "    if time.time() - start >= timeout:\n",
    "        raise TimeoutError(\"Program compilation timed out\")\n",
    "    time.sleep(0.01)\n",
    "    compiler_status = awgModule.getInt(\"compiler/status\")\n",
    "\n",
    "compiler_status_string = awgModule.getString(\"compiler/statusstring\")\n",
    "if compiler_status == 0:\n",
    "    print(\n",
    "        \"Compilation successful with no warnings, will upload the program to the instrument.\"\n",
    "    )\n",
    "if compiler_status == 1:\n",
    "    raise RuntimeError(\n",
    "        f\"Error during sequencer compilation: {compiler_status_string:s}\"\n",
    "    )\n",
    "if compiler_status == 2:\n",
    "    print(f\"Warning during sequencer compilation:  {compiler_status_string:s}\")\n",
    "\n",
    "# Wait until the sequence is correctly uploaded\n",
    "start = time.time()\n",
    "for awg_core in awg_cores:\n",
    "    # Check the ready status for each core\n",
    "    while daq.getInt(f\"/{device_id:s}/awgs/{awg_core:d}/ready\") == 0:\n",
    "        # Timeout if all the cores doesn't report ready in time\n",
    "        if time.time() - start >= timeout:\n",
    "            raise TimeoutError(f\"Sequence not uploaded within {timeout:.1f}s.\")\n",
    "        time.sleep(0.01)\n",
    "\n",
    "print(\"Sequence successfully uploaded.\")"
   ]
  },
  {
   "cell_type": "markdown",
   "id": "1284cd41",
   "metadata": {},
   "source": [
    "### Command Table definition and upload\n",
    "\n",
    "The waveforms are played by a command table, whose structure must conform to a defined schema. The schema can be read from the device. This example validates the command table against the schema before uploading it. This step is not mandatory since the device will validate the schema as well. However, it is helpful for debugging."
   ]
  },
  {
   "cell_type": "markdown",
   "id": "4b6dd3d4",
   "metadata": {},
   "source": [
    "Read the schema from the device."
   ]
  },
  {
   "cell_type": "code",
   "execution_count": null,
   "id": "f6a02cf3",
   "metadata": {},
   "outputs": [],
   "source": [
    "schema_node = f\"/{device_id:s}/awgs/0/commandtable/schema\"\n",
    "schema = json.loads(\n",
    "    daq.get(schema_node, flat=True)[schema_node][0][\"vector\"]\n",
    ")\n",
    "print(f\"The device is using the commandtable schema version {schema['version']}\")"
   ]
  },
  {
   "cell_type": "markdown",
   "id": "4191cde6",
   "metadata": {},
   "source": [
    "Define two command tables and validate them against the schema."
   ]
  },
  {
   "cell_type": "code",
   "execution_count": null,
   "id": "ee86da3b",
   "metadata": {},
   "outputs": [],
   "source": [
    "cts = [\n",
    "# First command table\n",
    "{   \n",
    "    \"header\": {\n",
    "        \"version\": \"1.1.0\",\n",
    "    },\n",
    "    \"table\": [\n",
    "        {\n",
    "            \"index\": 0,\n",
    "            \"waveform\": {\"index\": wfm_index},\n",
    "            \"amplitude0\": {\"value\": 1.0},\n",
    "            \"amplitude1\": {\"value\": 1.0},\n",
    "        }\n",
    "    ],\n",
    "},\n",
    "# Second command table\n",
    "{\n",
    "    \"header\": {\n",
    "        \"version\": \"1.1.0\",\n",
    "    },\n",
    "    \"table\": [\n",
    "        {\n",
    "            \"index\": 0,\n",
    "            \"waveform\": {\"index\": wfm_index},\n",
    "            \"amplitude0\": {\"value\": 0.5},\n",
    "            \"amplitude1\": {\"value\": -1.0},\n",
    "        }\n",
    "    ],\n",
    "}\n",
    "]\n",
    "\n",
    "for ct in cts:\n",
    "    jsonschema.validate(\n",
    "        instance=ct,\n",
    "        schema=schema,\n",
    "        cls=jsonschema.Draft7Validator,\n",
    "    )"
   ]
  },
  {
   "cell_type": "markdown",
   "id": "90d21d76",
   "metadata": {},
   "source": [
    "Upload the two command tables to the two AWG cores and check if the upload ends successfully."
   ]
  },
  {
   "cell_type": "code",
   "execution_count": null,
   "id": "37dac1e9",
   "metadata": {},
   "outputs": [],
   "source": [
    "# Upload the command tables\n",
    "ct_set = []\n",
    "for ct, awg_c in zip(cts, awg_cores):\n",
    "    ct_set.append([f\"/{device_id:s}/awgs/{awg_c:d}/commandtable/data\", json.dumps(ct,separators=(\",\", \":\"))])\n",
    "\n",
    "daq.set(ct_set)\n",
    "\n",
    "\n",
    "# Wait until the command table is correctly uploaded\n",
    "timeout = 10.0\n",
    "start = time.time()\n",
    "for awg_core in awg_cores:\n",
    "\n",
    "    # Check the ready status for each core\n",
    "    while (True):\n",
    "        status = daq.getInt(f\"/{device_id:s}/awgs/{awg_core:d}/commandtable/status\")\n",
    "\n",
    "        if status & 0b1:\n",
    "            # Upload successful, move on the next core\n",
    "            break\n",
    "\n",
    "        if status & 0b1000:\n",
    "            # Error in command table\n",
    "            raise RuntimeError(f\"The upload of command table on core {awg_core:d} failed.\")\n",
    "\n",
    "        if time.time() - start >= timeout:\n",
    "            # Timeout if all the cores doesn't report ready in time\n",
    "            raise TimeoutError(f\"Commandtable not uploaded within {timeout:.1f}s.\")\n",
    "        \n",
    "        time.sleep(0.01)\n",
    "\n",
    "print(\"Command tables upload successful\")"
   ]
  },
  {
   "cell_type": "markdown",
   "id": "0fda9715",
   "metadata": {},
   "source": [
    "### Waveform upload\n",
    "\n",
    "Replace the placeholder waveform with a drag pulse (I quadrature is a gaussian and Q quadrature is the derivative of I). The waveform data is uploaded to the index `wfm_index`, which must be the same specified by\n",
    "the `assignWaveIndex` sequencer instruction."
   ]
  },
  {
   "cell_type": "markdown",
   "id": "aaba6ce6",
   "metadata": {},
   "source": [
    "Define the waveforms."
   ]
  },
  {
   "cell_type": "code",
   "execution_count": null,
   "id": "3d020179",
   "metadata": {},
   "outputs": [],
   "source": [
    "x_array = np.linspace(-wfm_length//2, wfm_length//2, wfm_length)\n",
    "sigma = wfm_length//8\n",
    "\n",
    "# Define the waveforms as numpy arrays\n",
    "waveform1 = np.array(\n",
    "    np.exp(-np.power(x_array, 2.0) / (2 * np.power(sigma, 2.0))),\n",
    "    dtype=float,\n",
    ")\n",
    "waveform2 = np.array(\n",
    "    -x_array/sigma**2 * waveform1,\n",
    "    dtype=float,\n",
    ")\n",
    "\n",
    "# Convert the numpy arrays to the native AWG waveform format\n",
    "waveform_native12 = zhinst.utils.convert_awg_waveform(waveform1, waveform2)\n",
    "waveform_native34 = zhinst.utils.convert_awg_waveform(waveform1, waveform2)\n",
    "\n",
    "waveforms = [waveform_native12, waveform_native34]"
   ]
  },
  {
   "cell_type": "markdown",
   "id": "5a4982c9",
   "metadata": {},
   "source": [
    "Upload the native waveforms to the device."
   ]
  },
  {
   "cell_type": "code",
   "execution_count": null,
   "id": "f7e1b315",
   "metadata": {},
   "outputs": [],
   "source": [
    "wfm_set = []\n",
    "for wfm, awg_c in zip(waveforms, awg_cores):\n",
    "    wfm_set.append([f\"/{device_id:s}/awgs/{awg_c:d}/waveform/waves/{wfm_index:d}\", wfm])\n",
    "\n",
    "daq.set(wfm_set)\n",
    "\n",
    "print(\"Waveforms upload successful\")"
   ]
  },
  {
   "cell_type": "markdown",
   "id": "4dc47cb1",
   "metadata": {},
   "source": [
    "### Enable the AWG \n",
    "This is the preferred method of using the AWG: run in single mode. Continuous waveform playback\n",
    "is best achieved by using an infinite loop (e.g., `while (true)`) in the sequencer program.\n",
    "\n",
    "Note that it is not necessary to enable all the AWG cores manually: by enabling one core, all the other are automatically enabled by the device. For this reason in this example only the first AWG core is enabled."
   ]
  },
  {
   "cell_type": "code",
   "execution_count": null,
   "id": "8362adef",
   "metadata": {},
   "outputs": [],
   "source": [
    "daq.setInt(f\"/{device_id:s}/awgs/{awg_cores[0]:d}/single\", True)\n",
    "daq.syncSetInt(f\"/{device_id:s}/awgs/{awg_cores[0]:d}/enable\", True)"
   ]
  }
 ],
 "metadata": {
  "jupytext": {
   "formats": "ipynb,md"
  },
  "kernelspec": {
   "display_name": "Python 3.10.6 64-bit ('api_examples')",
   "language": "python",
   "name": "python3"
  }
 },
 "nbformat": 4,
 "nbformat_minor": 5
}