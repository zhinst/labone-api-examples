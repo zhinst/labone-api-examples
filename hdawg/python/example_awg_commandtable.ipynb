{
 "cells": [
  {
   "cell_type": "markdown",
   "id": "4780d9cb",
   "metadata": {},
   "source": [
    "# Zurich Instruments LabOne Python API Example\n",
    "## Run an AWG program using the command table\n",
    "\n",
    "Demonstrate how to connect to a Zurich Instruments HDAWG and upload and run an\n",
    "AWG program using the command table.\n",
    "\n",
    "Requirements:\n",
    "* LabOne Version >= 22.08\n",
    "* Instruments:\n",
    "    1 x HDAWG Instrument\n",
    "\n",
    "---"
   ]
  },
  {
   "cell_type": "code",
   "execution_count": null,
   "id": "404ed40a",
   "metadata": {},
   "outputs": [],
   "source": [
    "import textwrap\n",
    "import json\n",
    "import jsonschema\n",
    "import numpy as np\n",
    "import time\n",
    "\n",
    "import zhinst.core\n",
    "import zhinst.utils"
   ]
  },
  {
   "cell_type": "markdown",
   "id": "bc01db0a",
   "metadata": {},
   "source": [
    "Set up the connection. The connection is always through a session to a\n",
    "Data Server. The Data Server then connects to the device.\n",
    "\n",
    "The LabOne Data Server needs to run within the network, either on localhost when\n",
    "starting LabOne on your local computer or a remote server."
   ]
  },
  {
   "cell_type": "code",
   "execution_count": null,
   "id": "6e591104",
   "metadata": {},
   "outputs": [],
   "source": [
    "device_id = \"dev8293\"  # Device serial number available on its rear panel.\n",
    "interface = \"1GbE\"  # For Ethernet connection.\n",
    "# interface = \"USB\" # For all instruments connected to the host computer via USB.\n",
    "\n",
    "server_host = \"localhost\"\n",
    "server_port = 8004\n",
    "api_level = 6  # Maximum API level supported for all instruments.\n",
    "\n",
    "# Create an API session to the Data Server.\n",
    "daq = zhinst.core.ziDAQServer(server_host, server_port, api_level)\n",
    "# Establish a connection between Data Server and Device.\n",
    "daq.connectDevice(device_id, interface)\n",
    "\n",
    "# Create a base configuration: disable all available outputs, awgs,...\n",
    "daq.syncSetInt(f\"/{device_id}/system/preset/load\", 1)\n",
    "zhinst.utils.wait_for_state_change(daq, f\"/{device_id:s}/system/preset/busy\", 0, timeout = 2.0)"
   ]
  },
  {
   "cell_type": "markdown",
   "id": "0dff014e",
   "metadata": {},
   "source": [
    "### Basic configuration\n",
    "Specify the device configuration. Firstly select the AWG core, and therefore the output channels. Then set the output range for each channels and output gains. Finally, activate the outputs."
   ]
  },
  {
   "cell_type": "code",
   "execution_count": null,
   "id": "532edd9f",
   "metadata": {},
   "outputs": [],
   "source": [
    "awg_c = 0               # AWG core\n",
    "output_range = 1.0      # Output range [V]\n",
    "\n",
    "ch1 = 2*awg_c           # Output channel 1\n",
    "ch2 = 2*awg_c+1         # Output channel 2\n",
    "\n",
    "exp_setting = [\n",
    "    [f\"/{device_id:s}/system/awg/channelgrouping\", 0],                  # Grouping mode 4x2 (HDAWG8) or 2x2 (HDAWG4)\n",
    "    [f\"/{device_id:s}/awgs/{awg_c:d}/outputs/0/gains/0\", 1.0],          # Set the output gains matrix to diagonal\n",
    "    [f\"/{device_id:s}/awgs/{awg_c:d}/outputs/0/gains/1\", 0.0],\n",
    "    [f\"/{device_id:s}/awgs/{awg_c:d}/outputs/1/gains/0\", 0.0],\n",
    "    [f\"/{device_id:s}/awgs/{awg_c:d}/outputs/1/gains/1\", 1.0],\n",
    "    [f\"/{device_id:s}/awgs/{awg_c:d}/outputs/0/modulation/mode\", 0],    # Turn off modulation mode\n",
    "    [f\"/{device_id:s}/awgs/{awg_c:d}/outputs/1/modulation/mode\", 0],\n",
    "    [f\"/{device_id:s}/sigouts/{ch1:d}/range\", output_range],            # Select the output range\n",
    "    [f\"/{device_id:s}/sigouts/{ch2:d}/range\", output_range],\n",
    "    [f\"/{device_id:s}/sigouts/{ch1:d}/on\", True],                       # Turn on the outputs\n",
    "    [f\"/{device_id:s}/sigouts/{ch2:d}/on\", True],\n",
    "]\n",
    "daq.set(exp_setting)"
   ]
  },
  {
   "cell_type": "markdown",
   "id": "8257d7db",
   "metadata": {},
   "source": [
    "### AWG sequencer program\n",
    "Define an AWG program as a string stored in the variable `awg_program`, equivalent to what would be entered in the Sequence Editor window in the graphical UI. Differently to a self-contained program, this example refers to a command table by the instruction `executeTableEntry`, and to a placeholder waveforms `p1` and `p2` by the instruction `placeholder`. Both the command table and the waveform data for the placeholders need to be uploaded separately before this sequence program can be run.\n",
    "\n",
    "After defining the sequencer program, this must be compiled before being uploaded. Here the compilation is performed using the routine `compile_seqc` of the `zhinst.utils` package. The result of the compilation is a string in the binary elf format."
   ]
  },
  {
   "cell_type": "code",
   "execution_count": null,
   "id": "80a87e6a",
   "metadata": {},
   "outputs": [],
   "source": [
    "# Define the AWG program\n",
    "wfm_index = 10\n",
    "wfm_length = 1024\n",
    "awg_program = textwrap.dedent(\n",
    "    f\"\"\"\\\n",
    "    // Define placeholder with length wfm_length\n",
    "    wave p1 = placeholder({wfm_length:d});\n",
    "    wave p2 = placeholder({wfm_length:d});\n",
    "\n",
    "    // Assign an index to the placeholder waveform\n",
    "    assignWaveIndex(1,p1, 2,p2, {wfm_index:d});\n",
    "\n",
    "    while(true) {{\n",
    "      executeTableEntry(0);\n",
    "    }}\n",
    "    \"\"\"\n",
    ")\n",
    "\n",
    "# Compile the AWG program\n",
    "device_type = daq.getString(f\"/{device_id:s}/features/devtype\")\n",
    "options = daq.getString(f\"/{device_id:s}/features/options\")\n",
    "samplerate = daq.getDouble(f\"/{device_id:s}/system/clocks/sampleclock/freq\")\n",
    "\n",
    "elf, compiler_info = zhinst.core.compile_seqc(\n",
    "    awg_program, devtype=device_type, options=options, index=awg_c, samplerate=samplerate\n",
    ")\n",
    "\n",
    "print(compiler_info)\n",
    "assert not compiler_info[\n",
    "    \"messages\"\n",
    "], f\"There was an error during compilation: {compiler_info['messages']:s}\""
   ]
  },
  {
   "cell_type": "markdown",
   "id": "58cbe038",
   "metadata": {},
   "source": [
    "Upload the compiled sequence to the device."
   ]
  },
  {
   "cell_type": "code",
   "execution_count": null,
   "id": "b4a687f9",
   "metadata": {},
   "outputs": [],
   "source": [
    "daq.setVector(f\"/{device_id:s}/awgs/{awg_c:d}/elf/data\", elf)\n",
    "\n",
    "# Wait until the sequence is correctly uploaded\n",
    "timeout = 10.0\n",
    "start = time.time()\n",
    "while daq.getInt(f\"/{device_id:s}/awgs/{awg_c:d}/ready\") == 0:\n",
    "    if time.time() - start > timeout:\n",
    "        raise TimeoutError(\n",
    "            f\"Sequence not uploaded within {timeout:.1f}s.\"\n",
    "        )\n",
    "    time.sleep(0.01)\n",
    "print(\"Sequence successfully uploaded.\")"
   ]
  },
  {
   "cell_type": "markdown",
   "id": "3c3932f5",
   "metadata": {},
   "source": [
    "### Command Table definition and upload\n",
    "\n",
    "The waveforms is played by a command table, whose structure must conform to\n",
    "a defined schema. The schema can be \n",
    "read from the device. This example validates the command table against the \n",
    "schema before uploading it. This step is not mandatory since the device will\n",
    "validate the schema as well. However, it is helpful for debugging."
   ]
  },
  {
   "cell_type": "markdown",
   "id": "721057fd",
   "metadata": {},
   "source": [
    "Read the schema from the device."
   ]
  },
  {
   "cell_type": "code",
   "execution_count": null,
   "id": "508d3ca3",
   "metadata": {},
   "outputs": [],
   "source": [
    "schema_node = f\"/{device_id:s}/awgs/0/commandtable/schema\"\n",
    "schema = json.loads(\n",
    "    daq.get(schema_node, flat=True)[schema_node][0][\"vector\"]\n",
    ")\n",
    "print(f\"The device is using the commandtable schema version {schema['version']}\")"
   ]
  },
  {
   "cell_type": "markdown",
   "id": "f1b0bbb7",
   "metadata": {},
   "source": [
    "Define the command table and validate it against the schema."
   ]
  },
  {
   "cell_type": "code",
   "execution_count": null,
   "id": "8de3a406",
   "metadata": {},
   "outputs": [],
   "source": [
    "ct = {\n",
    "    \"header\": {\n",
    "        \"version\": \"1.1.0\",\n",
    "    },\n",
    "    \"table\": [\n",
    "        {\n",
    "            \"index\": 0,\n",
    "            \"waveform\": {\"index\": wfm_index},\n",
    "            \"amplitude0\": {\"value\": 1.0},\n",
    "            \"amplitude1\": {\"value\": 1.0},\n",
    "        }\n",
    "    ],\n",
    "}\n",
    "\n",
    "jsonschema.validate(\n",
    "    instance=ct,\n",
    "    schema=schema,\n",
    "    cls=jsonschema.Draft7Validator,\n",
    ")"
   ]
  },
  {
   "cell_type": "markdown",
   "id": "6bb4e513",
   "metadata": {},
   "source": [
    "Upload the command table to the device."
   ]
  },
  {
   "cell_type": "code",
   "execution_count": null,
   "id": "4b832f94",
   "metadata": {},
   "outputs": [],
   "source": [
    "daq.set(f\"/{device_id:s}/awgs/{awg_c:d}/commandtable/data\", json.dumps(ct, separators=(\",\", \":\")))\n",
    "\n",
    "# Wait until the command table is correctly uploaded\n",
    "timeout = 10.0\n",
    "start = time.time()\n",
    "while (True):\n",
    "    status = daq.getInt(f\"/{device_id:s}/awgs/{awg_c:d}/commandtable/status\")\n",
    "\n",
    "    if status & 0b1:\n",
    "        # Upload successful\n",
    "        break\n",
    "\n",
    "    if status & 0b1000:\n",
    "        # Error in command table\n",
    "        raise RuntimeError(f\"The upload of command table on core {awg_c:d} failed.\")\n",
    "\n",
    "    if time.time() - start >= timeout:\n",
    "        # Timeout\n",
    "        raise TimeoutError(f\"Command table not uploaded within {timeout:.1f}s.\")\n",
    "    \n",
    "    time.sleep(0.01)\n",
    "\n",
    "print(\"Command tables upload successful\")"
   ]
  },
  {
   "cell_type": "markdown",
   "id": "71ec4654",
   "metadata": {},
   "source": [
    "### Waveform upload\n",
    "\n",
    "Replace the placeholder waveform with a drag pulse (I quadrature is a gaussian and Q quadrature is the derivative of I). The waveform data is uploaded to the index `wfm_index`, which must be the same specified by\n",
    "the `assignWaveIndex` sequencer instruction."
   ]
  },
  {
   "cell_type": "markdown",
   "id": "c3bac05b",
   "metadata": {},
   "source": [
    "Define the waveform."
   ]
  },
  {
   "cell_type": "code",
   "execution_count": null,
   "id": "52e55338",
   "metadata": {},
   "outputs": [],
   "source": [
    "x_array = np.linspace(-wfm_length//2, wfm_length//2, wfm_length)\n",
    "sigma = wfm_length//8\n",
    "# Define the waveform as a numpy array\n",
    "waveform1 = np.array(\n",
    "    np.exp(-np.power(x_array, 2.0) / (2 * np.power(sigma, 2.0))),\n",
    "    dtype=float,\n",
    ")\n",
    "waveform2 = np.array(\n",
    "    -x_array/sigma**2 * waveform1,\n",
    "    dtype=float,\n",
    ")\n",
    "\n",
    "# Convert the numpy array to the native AWG waveform format\n",
    "waveform_native = zhinst.utils.convert_awg_waveform(waveform1, -waveform2)"
   ]
  },
  {
   "cell_type": "markdown",
   "id": "61cc3575",
   "metadata": {},
   "source": [
    "Upload the waveform to the device."
   ]
  },
  {
   "cell_type": "code",
   "execution_count": null,
   "id": "13055ba7",
   "metadata": {},
   "outputs": [],
   "source": [
    "daq.set(f\"/{device_id:s}/awgs/{awg_c:d}/waveform/waves/{wfm_index:d}\", waveform_native)"
   ]
  },
  {
   "cell_type": "markdown",
   "id": "8ec3a1bc",
   "metadata": {},
   "source": [
    "### Enable the AWG \n",
    "This is the preferred method of using the AWG: run in single mode. Continuous waveform playback\n",
    "is best achieved by using an infinite loop (e.g., `while (true)`) in the sequencer program."
   ]
  },
  {
   "cell_type": "code",
   "execution_count": null,
   "id": "7139172b",
   "metadata": {},
   "outputs": [],
   "source": [
    "daq.set(f\"/{device_id:s}/awgs/{awg_c:d}/single\", True)\n",
    "daq.syncSetInt(f\"/{device_id:s}/awgs/{awg_c:d}/enable\", True)"
   ]
  }
 ],
 "metadata": {
  "jupytext": {
   "formats": "ipynb,md"
  },
  "kernelspec": {
   "display_name": "Python 3.10.6 64-bit ('api_examples')",
   "language": "python",
   "name": "python3"
  }
 },
 "nbformat": 4,
 "nbformat_minor": 5
}