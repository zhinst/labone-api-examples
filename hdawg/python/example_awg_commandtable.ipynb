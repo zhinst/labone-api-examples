{
 "cells": [
  {
   "cell_type": "markdown",
   "id": "4c409762",
   "metadata": {},
   "source": [
    "# Zurich Instruments LabOne Python API Example\n",
    "# Connect to a Zurich Instruments device\n",
    "\n",
    "Demonstrate how to connect to a Zurich Instruments HDAWG and upload and run an\n",
    "AWG program using the command table.\n",
    "\n",
    "Requirements:\n",
    "* LabOne Version >= 22.08\n",
    "* Instruments:\n",
    "    1 x HDAWG Instrument\n",
    "\n",
    "---"
   ]
  },
  {
   "cell_type": "code",
   "execution_count": null,
   "id": "6cf0c1f4",
   "metadata": {},
   "outputs": [],
   "source": [
    "import textwrap\n",
    "import json\n",
    "import jsonschema\n",
    "import numpy as np\n",
    "\n",
    "import zhinst.core\n",
    "import zhinst.utils"
   ]
  },
  {
   "cell_type": "markdown",
   "id": "c47a12bd",
   "metadata": {},
   "source": [
    "Set up the connection. The connection is always through a session to a\n",
    "Data Server. The Data Server then connects to the device.\n",
    "\n",
    "The LabOne Data Server needs to run within the network, either on localhost when\n",
    "starting LabOne on your local computer or a remote server. (The MFLI/IA devices\n",
    "have a Data Server running on the device itself, please see the\n",
    "[user manual](https://docs.zhinst.com/mfli_user_manual/getting_started/device_connectivity_instrument.html)\n",
    "for detailed explanation.)"
   ]
  },
  {
   "cell_type": "code",
   "execution_count": null,
   "id": "53275bc1",
   "metadata": {},
   "outputs": [],
   "source": [
    "device_id = \"dev8123\"  # Device serial number available on its rear panel.\n",
    "interface = \"1GbE\"  # For Ethernet connection.\n",
    "# interface = \"USB\" # For all instruments connected to the host computer via USB.\n",
    "\n",
    "server_host = \"localhost\"\n",
    "server_port = 8004\n",
    "api_level = 6  # Maximum API level supported for all instruments.\n",
    "\n",
    "# Create an API session to the Data Server.\n",
    "daq = zhinst.core.ziDAQServer(server_host, server_port, api_level)\n",
    "# Establish a connection between Data Server and Device.\n",
    "daq.connectDevice(device_id, interface)"
   ]
  },
  {
   "cell_type": "markdown",
   "id": "dd743d1e",
   "metadata": {},
   "source": [
    "## Basic configuration\n",
    "`system/awg/channelgrouping` : Configure how many independent sequencers\n",
    "should run on the AWG and how the outputs are grouped by sequencer.\n",
    "\n",
    "0. 4x2 with HDAWG8; 2x2 with HDAWG4.\n",
    "1. 2x4 with HDAWG8; 1x4 with HDAWG4.\n",
    "2. 1x8 with HDAWG8.\n",
    "\n",
    "Configure the HDAWG to use one sequencer with the same waveform on all output channels."
   ]
  },
  {
   "cell_type": "code",
   "execution_count": null,
   "id": "b2b8da4f",
   "metadata": {},
   "outputs": [],
   "source": [
    "daq.setInt(f\"/{device_id}/system/awg/channelgrouping\", 0)"
   ]
  },
  {
   "cell_type": "markdown",
   "id": "5fc38e6e",
   "metadata": {},
   "source": [
    "Some basic device configuration to output the generated wave on Wave outputs 1 and 2"
   ]
  },
  {
   "cell_type": "code",
   "execution_count": null,
   "id": "e5199c4d",
   "metadata": {},
   "outputs": [],
   "source": [
    "amplitude = 1.0\n",
    "exp_setting = [\n",
    "    [f\"/{device_id}/sigouts/0/on\", 1],\n",
    "    [f\"/{device_id}/sigouts/1/on\", 1],\n",
    "    [f\"/{device_id}/sigouts/0/range\", 1],\n",
    "    [f\"/{device_id}/sigouts/1/range\", 1],\n",
    "    [f\"/{device_id}/awgs/0/outputs/0/amplitude\", amplitude],\n",
    "    [f\"/{device_id}/awgs/0/outputs/1/amplitude\", amplitude],\n",
    "    [f\"/{device_id}/awgs/0/outputs/0/modulation/mode\", 0],\n",
    "    [f\"/{device_id}/awgs/0/time\", 0],\n",
    "    [f\"/{device_id}/awgs/*/enable\", 0],\n",
    "    [f\"/{device_id}/awgs/0/userregs/0\", 0],\n",
    "]\n",
    "daq.set(exp_setting)"
   ]
  },
  {
   "cell_type": "markdown",
   "id": "5c916f3a",
   "metadata": {},
   "source": [
    "## AWG sequencer program\n",
    "Define an AWG program as a string stored in the variable awg_program, equivalent to what would\n",
    "be entered in the Sequence Editor window in the graphical UI. Different to a self-contained\n",
    "program, this example refers to a command table by the instruction \"executeTableEntry\", and to\n",
    "a placeholder waveform p by the instruction \"placeholder\". Both the command table and the\n",
    "waveform data for the waveform p need to be uploaded separately before this sequence program\n",
    "can be run."
   ]
  },
  {
   "cell_type": "code",
   "execution_count": null,
   "id": "ed287129",
   "metadata": {},
   "outputs": [],
   "source": [
    "awg_program = textwrap.dedent(\n",
    "    \"\"\"\\\n",
    "    // Define placeholder with 1024 samples:\n",
    "    wave p = placeholder(1024);\n",
    "\n",
    "    // Assign placeholder to waveform index 10\n",
    "    assignWaveIndex(p, p, 10);\n",
    "\n",
    "    while(true) {\n",
    "      executeTableEntry(0);\n",
    "    }\n",
    "    \"\"\"\n",
    ")\n",
    "device_type = daq.getString(f\"/{device_id}/features/devtype\")\n",
    "samplerate = daq.getDouble(f\"/{device_id}/system/clocks/sampleclock/freq\")\n",
    "\n",
    "elf, compiler_info = zhinst.core.compile_seqc(\n",
    "    awg_program, devtype=device_type, samplerate=samplerate\n",
    ")\n",
    "print(compiler_info)\n",
    "assert not compiler_info[\n",
    "    \"messages\"\n",
    "], f\"There was an error during compilation: {compiler_info['messages']}\""
   ]
  },
  {
   "cell_type": "code",
   "execution_count": null,
   "id": "4dcd7b84",
   "metadata": {},
   "outputs": [],
   "source": [
    "daq.setVector(f\"/{device_id}/awgs/0/elf/data\", elf)\n",
    "assert (\n",
    "    daq.getDouble(f\"/{device_id}/awgs/0/elf/progress\") == 100.0\n",
    "), \"Elf file was not uploaded correctly\""
   ]
  },
  {
   "cell_type": "markdown",
   "id": "e0f5c0dd",
   "metadata": {},
   "source": [
    "## Command Table definition and upload\n",
    "\n",
    "The structure of the command table is defined in a schema. The schema can be \n",
    "read from the device. This example validates the command table against the \n",
    "schema before uploading it. This step is not mandatory since the device will\n",
    "validate the schema as well. However it is helpfull for debugging."
   ]
  },
  {
   "cell_type": "code",
   "execution_count": null,
   "id": "77f8a1cd",
   "metadata": {},
   "outputs": [],
   "source": [
    "schema = json.loads(\n",
    "    daq.get(f\"/{device_id}/awgs/0/commandtable/schema\", flat=True)[\n",
    "        f\"/{device_id}/awgs/0/commandtable/schema\"\n",
    "    ][0][\"vector\"]\n",
    ")\n",
    "print(f\"The device is using the commandtable schema version {schema['version']}\")"
   ]
  },
  {
   "cell_type": "code",
   "execution_count": null,
   "id": "6a12f42f",
   "metadata": {},
   "outputs": [],
   "source": [
    "ct = {\n",
    "    \"header\": {\n",
    "        \"version\": \"1.0.0\",\n",
    "    },\n",
    "    \"table\": [\n",
    "        {\n",
    "            \"index\": 0,\n",
    "            \"waveform\": {\"index\": 10},\n",
    "            \"amplitude0\": {\"value\": 1.0},\n",
    "            \"amplitude1\": {\"value\": 1.0},\n",
    "        }\n",
    "    ],\n",
    "}\n",
    "\n",
    "jsonschema.validate(\n",
    "    instance=ct,\n",
    "    schema=schema,\n",
    "    cls=jsonschema.Draft4Validator,\n",
    ")"
   ]
  },
  {
   "cell_type": "code",
   "execution_count": null,
   "id": "7d3a83ff",
   "metadata": {},
   "outputs": [],
   "source": [
    "daq.setVector(f\"/{device_id}/awgs/0/commandtable/data\", json.dumps(ct))\n",
    "assert (\n",
    "    daq.getInt(f\"/{device_id}/awgs/0/commandtable/status\") == 1\n",
    "), f\"The upload of command table failed. \\n{ct}\""
   ]
  },
  {
   "cell_type": "markdown",
   "id": "812c04ec",
   "metadata": {},
   "source": [
    "## Waveform upload\n",
    "\n",
    "Replace the placeholder waveform with a new one with a Gaussian shape.\n",
    "\n",
    "The waveform data is uploaded to the index 10 (this is the index assigned with\n",
    "the assignWaveIndex sequencer instruction)"
   ]
  },
  {
   "cell_type": "code",
   "execution_count": null,
   "id": "7ce89019",
   "metadata": {},
   "outputs": [],
   "source": [
    "x_array = np.linspace(0, 1024, 1024)\n",
    "x_center = 512\n",
    "sigma = 150\n",
    "waveform = np.array(\n",
    "    np.exp(-np.power(x_array - x_center, 2.0) / (2 * np.power(sigma, 2.0))),\n",
    "    dtype=float,\n",
    ")\n",
    "waveform_native = zhinst.utils.convert_awg_waveform(waveform, -waveform)"
   ]
  },
  {
   "cell_type": "code",
   "execution_count": null,
   "id": "1884fda1",
   "metadata": {},
   "outputs": [],
   "source": [
    "index = 10\n",
    "daq.setVector(f\"/{device_id}/awgs/0/waveform/waves/{index}\", waveform_native)"
   ]
  },
  {
   "cell_type": "markdown",
   "id": "563e5f20",
   "metadata": {},
   "source": [
    "## Enable the AWG \n",
    "This is the preferred method of using the AWG: Run in single mode continuous waveform playback\n",
    "is best achieved by using an infinite loop (e.g., while (true)) in the sequencer program."
   ]
  },
  {
   "cell_type": "code",
   "execution_count": null,
   "id": "ea80bc71",
   "metadata": {},
   "outputs": [],
   "source": [
    "daq.setInt(f\"/{device_id}/awgs/0/single\", 1)\n",
    "daq.setInt(f\"/{device_id}/awgs/0/enable\", 1)"
   ]
  }
 ],
 "metadata": {
  "jupytext": {
   "formats": "ipynb,md"
  },
  "kernelspec": {
   "display_name": "Python 3.10.6 64-bit ('toolkit')",
   "language": "python",
   "name": "python3"
  }
 },
 "nbformat": 4,
 "nbformat_minor": 5
}