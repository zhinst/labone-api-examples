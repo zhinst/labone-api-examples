{
 "cells": [
  {
   "cell_type": "markdown",
   "id": "5cdc45ab",
   "metadata": {},
   "source": [
    "# Zurich Instruments LabOne Python API Example\n",
    "# Connect to a Zurich Instruments device\n",
    "\n",
    "Demonstrate how to connect to a Zurich Instruments device via the Data Server\n",
    "program. Create an API session by connecting to a Zurich Instruments device via\n",
    "the Data Server.\n",
    "\n",
    "Identify the device and check consistency across the LabOne stack.\n",
    "\n",
    "> Note:\n",
    ">\n",
    "> This example works with all Zurich Instruments devices except the HF2LI. A\n",
    "> separate example `example_connect` in the hf2 directory exists for the HF2LI.\n",
    "\n",
    "Requirements:\n",
    "* LabOne Version >= 20.02\n",
    "* Instruments:\n",
    "    1 x Zurich Instruments device\n",
    "\n",
    "---"
   ]
  },
  {
   "cell_type": "code",
   "execution_count": null,
   "id": "58e956fa",
   "metadata": {},
   "outputs": [],
   "source": [
    "import zhinst.core"
   ]
  },
  {
   "cell_type": "markdown",
   "id": "0b2f73eb",
   "metadata": {},
   "source": [
    "Set up the connection. The connection is always through a session to a\n",
    "Data Server. The Data Server then connects to the device.\n",
    "\n",
    "The LabOne Data Server needs to run within the network, either on localhost when\n",
    "starting LabOne on your local computer or a remote server. (The MFLI/IA devices\n",
    "have a Data Server running on the device itself, please see the\n",
    "[user manual](https://docs.zhinst.com/mfli_user_manual/getting_started/device_connectivity_instrument.html)\n",
    "for detailed explanation.)"
   ]
  },
  {
   "cell_type": "code",
   "execution_count": null,
   "id": "1609f87b",
   "metadata": {},
   "outputs": [],
   "source": [
    "device_id = \"dev2345\" # Device serial number available on its rear panel.\n",
    "interface = \"1GbE\" # For Ethernet connection or when MFLI/MFIA is connected to a remote Data Server.\n",
    "#interface = \"USB\" # For all instruments connected to the host computer via USB except MFLI/MFIA.\n",
    "#interface = \"PCIe\" # For MFLI/MFIA devices in case the Data Server runs on the device.\n",
    "\n",
    "server_host = \"localhost\"\n",
    "server_port = 8004\n",
    "api_level = 6 # Maximum API level supported for all instruments.\n",
    "\n",
    "# Create an API session to the Data Server.\n",
    "daq = zhinst.core.ziDAQServer(server_host, server_port, api_level)\n",
    "# Establish a connection between Data Server and Device.\n",
    "daq.connectDevice(device_id, interface)"
   ]
  },
  {
   "cell_type": "markdown",
   "id": "ddcabaae",
   "metadata": {},
   "source": [
    "Identify the connected device by trigger a blinking of the power led for a few seconds."
   ]
  },
  {
   "cell_type": "code",
   "execution_count": null,
   "id": "e16d717d",
   "metadata": {},
   "outputs": [],
   "source": [
    "daq.setInt(f\"/{device_id}/system/identify\", 1)"
   ]
  },
  {
   "cell_type": "markdown",
   "id": "27ff72a7",
   "metadata": {},
   "source": [
    "The versions of LabOne and the zhinst.core module should match to ensure\n",
    "deterministic behaviour."
   ]
  },
  {
   "cell_type": "code",
   "execution_count": null,
   "id": "a6b419d1",
   "metadata": {},
   "outputs": [],
   "source": [
    "from zhinst.core import __version__ as zhinst_version\n",
    "\n",
    "if daq.revision() == daq.getInt(\"/zi/about/revision\"):\n",
    "    print(\"LabOne and zhinst.core version match.\")\n",
    "else:\n",
    "    labone_version = daq.getString(\"/zi/about/version\")\n",
    "    labone_revision = daq.getInt(\"/zi/about/revision\")\n",
    "    print(\n",
    "        f\"zhinst.core version ({zhinst_version}) does not match\",\n",
    "        f\"the LabOne version ({labone_version}.{str(labone_revision)[4:]})!\",\n",
    "    )\n"
   ]
  },
  {
   "cell_type": "markdown",
   "id": "a2edb07c",
   "metadata": {},
   "source": [
    "The firmware revision should match the LabOne version to ensure deterministic behavior."
   ]
  },
  {
   "cell_type": "code",
   "execution_count": null,
   "id": "f1ee60c2",
   "metadata": {},
   "outputs": [],
   "source": [
    "import json\n",
    "status_flag = json.loads(daq.getString(\"/zi/devices\"))[device_id.upper()][\"STATUSFLAGS\"]\n",
    "if status_flag & 1 << 8:\n",
    "    print(\n",
    "        \"The device is currently updating please try again after the update \"\n",
    "        \"process is complete\"\n",
    "    )\n",
    "elif status_flag & 1 << 4 or status_flag & 1 << 5:\n",
    "    print(\n",
    "        \"The firmware does not match the LabOne version. \"\n",
    "        \"Please update the firmware, e.g. in the LabOne UI.\"\n",
    "    )\n",
    "elif status_flag & 1 << 6 or status_flag & 1 << 7:\n",
    "    print(\n",
    "        \"The firmware does not match the LabOne version. \"\n",
    "        \"Please update LabOne to the latest version from \"\n",
    "        \"https://www.zhinst.com/support/download-center.\"\n",
    "    )\n",
    "else:\n",
    "    print(\"The Firmware matches the LabOne version\")"
   ]
  }
 ],
 "metadata": {
  "jupytext": {
   "formats": "ipynb,md"
  },
  "kernelspec": {
   "display_name": "Python",
   "language": "python",
   "name": "python3"
  }
 },
 "nbformat": 4,
 "nbformat_minor": 5
}