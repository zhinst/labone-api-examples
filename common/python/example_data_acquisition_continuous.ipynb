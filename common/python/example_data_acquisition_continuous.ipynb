{
 "cells": [
  {
   "cell_type": "markdown",
   "id": "011f4cee",
   "metadata": {},
   "source": [
    "# Zurich Instruments LabOne Python API Example\n",
    "# Continuous Data Acquisition\n",
    "\n",
    "Python API Example for the Data Acquisition Module. This example demonstrates\n",
    "how to record data from an instrument continuously (without triggering).\n",
    "Record data continuously in 0.2 s chunks for 5 seconds using the Data\n",
    "Acquisition Module.\n",
    "\n",
    "> Note:\n",
    ">\n",
    "> This example does not perform any device configuration. If the streaming nodes\n",
    "> corresponding to the signal_paths are not enabled, no data will be recorded.\n",
    "\n",
    "Requirements:\n",
    "* LabOne Version >= 20.02\n",
    "* Instruments:\n",
    "    1 x Instrument with demodulators\n",
    "* Signal output 1 connected to signal input 1 with a BNC cable.\n",
    "---"
   ]
  },
  {
   "cell_type": "code",
   "execution_count": null,
   "id": "4c4f25d4",
   "metadata": {
    "vscode": {
     "languageId": "python"
    }
   },
   "outputs": [],
   "source": [
    "import numpy as np\n",
    "import time\n",
    "import zhinst.core\n",
    "%matplotlib notebook\n",
    "import matplotlib.pyplot as plt"
   ]
  },
  {
   "cell_type": "markdown",
   "id": "19929be5",
   "metadata": {},
   "source": [
    "Set up the connection. The connection is always through a session to a\n",
    "Data Server. The Data Server then connects to the device.\n",
    "\n",
    "The LabOne Data Server needs to run within the network, either on localhost when\n",
    "starting LabOne on your local computer or a remote server. (The MFLI/IA devices\n",
    "have a Data Server running on the device itself, please see the\n",
    "[user manual](https://docs.zhinst.com/mfli_user_manual/getting_started/device_connectivity_instrument.html)\n",
    "for detailed explanation.)"
   ]
  },
  {
   "cell_type": "code",
   "execution_count": null,
   "id": "3d9f6cf6",
   "metadata": {
    "vscode": {
     "languageId": "python"
    }
   },
   "outputs": [],
   "source": [
    "device_id = \"dev2345\" # Device serial number available on its rear panel.\n",
    "interface = \"1GbE\" # For Ethernet connection or when MFLI/MFIA is connected to a remote Data Server.\n",
    "#interface = \"USB\" # For all instruments connected to the host computer via USB except MFLI/MFIA.\n",
    "#interface = \"PCIe\" # For MFLI/MFIA devices in case the Data Server runs on the device.\n",
    "\n",
    "server_host = \"localhost\"\n",
    "server_port = 8004\n",
    "#server_port = 8005 # Default port for HF2LI.\n",
    "api_level = 6 # Maximum API level supported for all instruments except HF2LI.\n",
    "#api_level = 1 # Maximum API level supported for HF2LI.\n",
    "\n",
    "# Create an API session to the Data Server.\n",
    "daq = zhinst.core.ziDAQServer(server_host, server_port, api_level)\n",
    "# Establish a connection between Data Server and Device.\n",
    "daq.connectDevice(device_id, interface)"
   ]
  },
  {
   "cell_type": "markdown",
   "id": "177d4be6",
   "metadata": {},
   "source": [
    "Enable Demodulator 0"
   ]
  },
  {
   "cell_type": "code",
   "execution_count": null,
   "id": "cfa8eae1",
   "metadata": {
    "vscode": {
     "languageId": "python"
    }
   },
   "outputs": [],
   "source": [
    "daq.set(f\"/{device_id}/demods/0/enable\", 1)"
   ]
  },
  {
   "cell_type": "markdown",
   "id": "4e8eab63",
   "metadata": {},
   "source": [
    "Define signal paths that should be recorded in the module.\n",
    "\n",
    "A full list of possible signals can be found in the\n",
    "[user manual](https://docs.zhinst.com/labone_programming_manual/data_acquisition_module.html#pm.core.modules.daq.signalsubscription)."
   ]
  },
  {
   "cell_type": "code",
   "execution_count": null,
   "id": "93d83804",
   "metadata": {
    "vscode": {
     "languageId": "python"
    }
   },
   "outputs": [],
   "source": [
    "\n",
    "demod_path = f\"/{device_id}/demods/0/sample\"\n",
    "signal_paths = []\n",
    "signal_paths.append(demod_path + \".x\")  # The demodulator X output.\n",
    "signal_paths.append(demod_path + \".y\")  # The demodulator Y output."
   ]
  },
  {
   "cell_type": "markdown",
   "id": "9bfc6da3",
   "metadata": {},
   "source": [
    "Defined the total time we would like to record data for and its sampling rate."
   ]
  },
  {
   "cell_type": "code",
   "execution_count": null,
   "id": "ac1a27db",
   "metadata": {
    "vscode": {
     "languageId": "python"
    }
   },
   "outputs": [],
   "source": [
    "\n",
    "total_duration = 5 # Time in seconds for the aquisition.\n",
    "module_sampling_rate = 30000  # Number of points/second.\n",
    "burst_duration = 0.2  # Time in seconds for each data burst/segment.\n",
    "num_cols = int(np.ceil(module_sampling_rate * burst_duration))\n",
    "num_bursts = int(np.ceil(total_duration / burst_duration))"
   ]
  },
  {
   "cell_type": "markdown",
   "id": "d2f09071",
   "metadata": {},
   "source": [
    "Create an instance of the Data Acquisition Module"
   ]
  },
  {
   "cell_type": "code",
   "execution_count": null,
   "id": "6413764f",
   "metadata": {
    "vscode": {
     "languageId": "python"
    }
   },
   "outputs": [],
   "source": [
    "\n",
    "daq_module = daq.dataAcquisitionModule()"
   ]
  },
  {
   "cell_type": "markdown",
   "id": "3adfe497",
   "metadata": {},
   "source": [
    "Set the device that will be used for the trigger.\n",
    "\n",
    "**This parameter must be set** even if the module runs in continuos mode."
   ]
  },
  {
   "cell_type": "code",
   "execution_count": null,
   "id": "4255596b",
   "metadata": {
    "vscode": {
     "languageId": "python"
    }
   },
   "outputs": [],
   "source": [
    "daq_module.set(\"device\", device_id)"
   ]
  },
  {
   "cell_type": "markdown",
   "id": "693bfdec",
   "metadata": {},
   "source": [
    "Configure the DAQ module."
   ]
  },
  {
   "cell_type": "code",
   "execution_count": null,
   "id": "9b6475f3",
   "metadata": {
    "vscode": {
     "languageId": "python"
    }
   },
   "outputs": [],
   "source": [
    "# Specify continuous acquisition. (continuous = 0)\n",
    "daq_module.set(\"type\", \"continuous\")\n",
    "# 'grid/mode' - Specify the interpolation method of the returned data samples.\n",
    "# (use ``daq_module.help(\"grid/mode\")`` to se the available options)\n",
    "# (linear = 2)\n",
    "daq_module.set(\"grid/mode\", \"linear\")\n",
    "# 'count' - Specify the number of bursts of data the\n",
    "#   module should return (if endless=0). The\n",
    "#   total duration of data returned by the module will be\n",
    "#   count*duration.\n",
    "daq_module.set(\"count\", num_bursts)\n",
    "# 'duration' - Burst duration in seconds.\n",
    "#   If the data is interpolated linearly or using nearest neighbor, specify\n",
    "#   the duration of each burst of data that is returned by the DAQ Module.\n",
    "daq_module.set(\"duration\", burst_duration)\n",
    "# 'grid/cols' - The number of points within each duration.\n",
    "#   This parameter specifies the number of points to return within each\n",
    "#   burst (duration seconds worth of data) that is\n",
    "#   returned by the DAQ Module.\n",
    "daq_module.set(\"grid/cols\", num_cols)"
   ]
  },
  {
   "cell_type": "markdown",
   "id": "51172913",
   "metadata": {},
   "source": [
    "**Optionaly** setup the storage of the data to a file"
   ]
  },
  {
   "cell_type": "code",
   "execution_count": null,
   "id": "f6839725",
   "metadata": {
    "vscode": {
     "languageId": "python"
    }
   },
   "outputs": [],
   "source": [
    "filename = \"Example_Data_Acquisition_Continous\"\n",
    "# 'save/fileformat' - The file format to use for the saved data.\n",
    "#    0 - Matlab\n",
    "#    1 - CSV\n",
    "daq_module.set(\"save/fileformat\", \"csv\")\n",
    "# 'save/filename' - Each file will be saved to a\n",
    "# new directory in the Zurich Instruments user directory with the name\n",
    "# filename_NNN/filename_NNN/\n",
    "daq_module.set(\"save/filename\", filename)\n",
    "# 'save/saveonread' - Automatically save the data\n",
    "# to file each time read() is called.\n",
    "daq_module.set(\"save/saveonread\", True)"
   ]
  },
  {
   "cell_type": "markdown",
   "id": "fbd3b3e5",
   "metadata": {},
   "source": [
    "Subscribe to all signal paths."
   ]
  },
  {
   "cell_type": "code",
   "execution_count": null,
   "id": "4c8eafb3",
   "metadata": {
    "vscode": {
     "languageId": "python"
    }
   },
   "outputs": [],
   "source": [
    "data = {}\n",
    "for signal_path in signal_paths:\n",
    "    print(\"Subscribing to \", signal_path)\n",
    "    daq_module.subscribe(signal_path)\n",
    "    data[signal_path] = []"
   ]
  },
  {
   "cell_type": "markdown",
   "id": "14cee4d5",
   "metadata": {},
   "source": [
    "Continuously acquire (and plot) the data for the subscribed signals for the\n",
    "specified duration.\n",
    "\n",
    "> Warning:\n",
    ">\n",
    "> This examples stores all the acquired data in the `data` dict - remove this\n",
    "> continuous storing in `read_new_data` before increasing the size of\n",
    "> total_duration!"
   ]
  },
  {
   "cell_type": "code",
   "execution_count": null,
   "id": "c46e39f7",
   "metadata": {
    "vscode": {
     "languageId": "python"
    }
   },
   "outputs": [],
   "source": [
    "do_plot = True\n",
    "\n",
    "clockbase = float(daq.getInt(f\"/{device_id}/clockbase\"))\n",
    "if do_plot:\n",
    "    timestamp0 = None\n",
    "    max_value = None\n",
    "    min_value = None\n",
    "    fig, axis = plt.subplots()\n",
    "    axis.set_xlabel(\"Time ($s$)\")\n",
    "    axis.set_ylabel(\"Subscribed signals\")\n",
    "    axis.set_xlim([0, total_duration])\n",
    "    lines = [axis.plot([], [], label=path)[0] for path in signal_paths]\n",
    "    axis.legend()\n",
    "    axis.set_title(\"Continuous Data Acquisition\")\n",
    "    plt.ion()\n",
    "\n",
    "\n",
    "def process_data(raw_data):\n",
    "    global timestamp0, lines, max_value, min_value\n",
    "    for i, signal_path in enumerate(signal_paths):\n",
    "        # Loop over all the bursts for the subscribed signal. More than\n",
    "        # one burst may be returned at a time, in particular if we call\n",
    "        # read() less frequently than the burst_duration.\n",
    "        for signal_burst in raw_data.get(signal_path.lower(), []):\n",
    "            # Convert from device ticks to time in seconds.\n",
    "            value = signal_burst[\"value\"][0, :]\n",
    "            data[signal_path].append(value)\n",
    "            if do_plot:\n",
    "                max_value = max(max_value, max(value)) if max_value else max(value)\n",
    "                min_value = min(min_value, min(value)) if min_value else min(value)\n",
    "                axis.set_ylim(min_value, max_value)\n",
    "                timestamp0 = (\n",
    "                    timestamp0 if timestamp0 else signal_burst[\"timestamp\"][0, 0]\n",
    "                )\n",
    "                t = (signal_burst[\"timestamp\"][0, :] - timestamp0) / clockbase\n",
    "                lines[i].set_data(\n",
    "                    np.concatenate((lines[i].get_xdata(), t), axis=0),\n",
    "                    np.concatenate((lines[i].get_ydata(), value), axis=0),\n",
    "                )\n",
    "    if do_plot:\n",
    "        fig.canvas.draw()\n",
    "\n",
    "# Start recording data.\n",
    "daq_module.execute()\n",
    "# Record data in a loop with timeout.\n",
    "timeout = 1.5 * total_duration\n",
    "start = time.time()\n",
    "\n",
    "while not daq_module.finished():\n",
    "    t0_loop = time.time()\n",
    "    if time.time() - start > timeout:\n",
    "        raise Exception(\n",
    "            f\"Timeout after {timeout} s - recording not complete.\"\n",
    "            \"Are the streaming nodes enabled?\"\n",
    "            \"Has a valid signal_path been specified?\"\n",
    "        )\n",
    "    raw_data = daq_module.read(True)\n",
    "    process_data(raw_data)\n",
    "    time.sleep(max(0, burst_duration - (time.time() - t0_loop)))\n",
    "# There may be new data between the last read() and calling finished().\n",
    "raw_data = daq_module.read(True)\n",
    "process_data(raw_data)"
   ]
  }
 ],
 "metadata": {
  "jupytext": {
   "formats": "ipynb,md"
  },
  "kernelspec": {
   "display_name": "Python 3 (ipykernel)",
   "language": "python",
   "name": "python3"
  }
 },
 "nbformat": 4,
 "nbformat_minor": 5
}