---
jupyter:
  jupytext:
    text_representation:
      extension: ipynb,md
      format_name: markdown
      format_version: '1.3'
      jupytext_version: 1.14.1
  kernelspec:
    display_name: Python 3 (jupytext)
    language: python
    name: python3
---

# Zurich Instruments LabOne Python API Example


## Run a frequency sweep with SHFQA


Run a frequency sweep with SHFQA using an external trigger (trigger in 1 A).

Requirements:
* LabOne Version >= 22.02
* Instruments:
    1 x SHFQA or SHFQC Instrument
* Signal output 0 connected to signal input 0 with a BNC cable.

------

```python
import zhinst.core

from zhinst.utils.shf_sweeper import (
    ShfSweeper,
    AvgConfig,
    RfConfig,
    SweepConfig,
    TriggerConfig,
    EnvelopeConfig,
)
```

### 1. Connect the device


Set up the connection with the device. Firstly create an API session with a Data Server. Then the Data Server connects to the device.

```python
device_id = "dev2345" # Device serial number available on its rear panel.
interface = "1GbE" # For Ethernet connection
#interface = "USB" # For USB connection

server_host = "localhost"
server_port = 8004
api_level = 6 # Maximum API level supported for all instruments.

# Create an API session to the Data Server.
daq = zhinst.core.ziDAQServer(server_host, server_port, api_level)

# Establish a connection between Data Server and Device.
daq.connectDevice(device_id, interface)
```

For purpose of this example a loopback signal is used for triggering. In a real life application a external trigger should be used. The following code takes care of setting up the loopback.

```python
# Force the trigger channel
trigger_source = "channel0_trigger_input0"

# Reset testsources
daq.syncSetInt(f"/{device_id}/raw/markers/*/testsource", 2)
daq.set(
    [
        ((f"/{device_id}/raw/markers/0/testsource", 1)),
        (f"/{device_id}/raw/markers/0/frequency", 1e3),
        (f"/{device_id}/raw/triggers/0/loopback", 1)
    ]
)
```

### 2. Generate the pulse


Generate the complex pulse envelope with a zero modulation frequency.


Configure the parameters of the pulse.

```python
import zhinst.utils.shfqa as shfqa_utils
import numpy as np

# Parameters of the envelope
envelope_duration = 1.0e-6
envelope_rise_fall_time = 0.05e-6
envelope_frequencies = [0]
scaling = 1

rise_fall_len = int(envelope_rise_fall_time * shfqa_utils.SHFQA_SAMPLING_FREQUENCY)
pulse_len = int(envelope_duration * shfqa_utils.SHFQA_SAMPLING_FREQUENCY)

std_dev = rise_fall_len // 10
```

Generate the flat top gaussian pulse envelope.

```python
from scipy.signal import gaussian

# Generate gaussian waveform and flatten its top
gauss = gaussian(2 * rise_fall_len, std_dev)
flat_top_gaussian = np.ones(pulse_len)
flat_top_gaussian[0:rise_fall_len] = gauss[0:rise_fall_len]
flat_top_gaussian[-rise_fall_len:] = gauss[-rise_fall_len:]

flat_top_gaussian *= scaling
```

### 3. Create a sweeper and configure it


Instantiate the sweeper.

```python
sweeper = ShfSweeper(daq, device_id)
```

Configure the sweeper.

```python
# Configuration parameters
trigger_source = "channel0_trigger_input0"
envelope_delay = 0.0
spectroscopy_delay = 0.0   

# Frequency range settings
sweep_config = SweepConfig(
    start_freq=-200e6,
    stop_freq=300e6,
    num_points=51,
    mapping="linear",
    oscillator_gain=0.8,
)

# Averaging settings for the sweep
avg_config = AvgConfig(
    integration_time=envelope_duration,
    num_averages=2,
    mode="sequential",
    integration_delay=spectroscopy_delay,
)

# RF input and output settings for the sweep
rf_config = RfConfig(channel=0, input_range=0, output_range=0, center_freq=4e9)

# Trigger configuration
trig_config = TriggerConfig(source=trigger_source, level=0)

# Configuration of the envelope for the pulse
envelope_config = EnvelopeConfig(waveform=flat_top_gaussian, delay=envelope_delay)


sweeper.configure(sweep_config, avg_config, rf_config, trig_config, envelope_config)
```

Transfer the settings to the device. This can also be ignored, but is needed to verify the envelope before the sweep.

```python
sweeper.set_to_device()
```

Turn on the input and output of the channel.

```python
daq.set(
    [
        (f"/{device_id}/qachannels/{rf_config.channel}/input/on", 1),
        (f"/{device_id}/qachannels/{rf_config.channel}/output/on", 1)
    ]
)
```

### 3. Run the experiment and get the result


Start a sweep.

```python
sweeper.run()
```

Get the result after the sweep.

```python
result = sweeper.get_result()
num_points_result = len(result["vector"])
print(f"Measured at {num_points_result} frequency points.")
```

Plot the result over the frequency.

```python
sweeper.plot()
```

If the external trigger is not provided, and instead a signal loopback is used for triggering, then clear the trigger loopback.

```python
daq.set(
    [
        (f"/{device_id}/raw/markers/*/testsource", 0),
        (f"/{device_id}/raw/triggers/0/loopback", 0)
    ]
)
```

### 4. Verify the spectroscopy pulse with the Scope


To achieve the best SNR, integration should start when the pulse reaches the integration units. Here, the scope is used to verify the spectroscopy pulse and measure the integration delay.

> Note:
>
> This only works if the device under test transmits the signal at the selected center frequency. To obtain the actual pulse shape, the user must connect the output of the SHFQA directly to the input on the same channel.


Load the sequencer program to trigger the scope and the spectroscopy envelope.

```python
sequence = """
while(1) {
    playZero(100000);
    setTrigger(1);
    setTrigger(0);
}
"""
shfqa_utils.load_sequencer_program(daq, device_id, rf_config.channel, sequence)
shfqa_utils.enable_sequencer(daq, device_id, rf_config.channel, single=0)
```

Configure and enable the scope.

```python
daq.setDouble(f"/{device_id}/qachannels/{rf_config.channel}/oscs/0/freq", 0)

# Configuration parameters
scope_channel = 0
margin_seconds = 400e-9  # Scope trace length = pulse length + margin
segment_duration = envelope_duration + margin_seconds

shfqa_utils.configure_scope(
    daq,
    device_id,
    input_select={scope_channel: f"channel{rf_config.channel}_signal_input"},
    num_samples=int(segment_duration * shfqa_utils.SHFQA_SAMPLING_FREQUENCY),
    trigger_input="channel0_sequencer_trigger0",
    num_segments=1,
    num_averages=1,
    trigger_delay=envelope_delay,
)

shfqa_utils.enable_scope(daq, device_id, single=1)

```

Get the scope trace.

```python
scope_data, *_ = shfqa_utils.get_scope_data(daq, device_id, timeout=5)

scope_trace = scope_data[scope_channel]
```

Filter the scope data. Apply the filter both to the scope pulse and the real pulse to introduce the same amount of "delay".

```python
# Filter window size
window_s = 4

# Filter the real pulse
pulse_smooth = np.convolve(
    np.abs(flat_top_gaussian), np.ones(window_s) / window_s, mode="same"
)
pulse_diff = np.diff(np.abs(pulse_smooth))
sync_tick = np.argmax(pulse_diff)

# Filter the pulse read by the scope
scope_smooth = np.diff(np.abs(scope_trace))
scope_diff = np.convolve(
    scope_smooth, np.ones(window_s) / window_s, mode="same"
)
sync_tack = np.argmax(scope_diff)

# Calculate the delay
delay_in_ns = (
    1.0e9 * (sync_tack - sync_tick) / shfqa_utils.SHFQA_SAMPLING_FREQUENCY
)
delay_in_ns = 2 * ((delay_in_ns + 1) // 2)  # Round up to the 2ns resolution
```

Print diagnostics.

```python
print(f"Delay between generator and monitor: {delay_in_ns} ns")
print(f"Envelope delay: {envelope_delay * 1e9:.0f} ns")
if spectroscopy_delay * 1e9 == delay_in_ns + (envelope_delay * 1e9):
    print("Spectroscopy delay and envelope perfectly timed!")
else:
    print(
        f"Consider setting the spectroscopy delay to [{(envelope_delay + (delay_in_ns * 1e-9))}] "
    )
    print("to exactly integrate the envelope.")

```

Plot the filtered scope pulse and the filtered real pulses.

```python
import matplotlib.pyplot as plt

time_ticks_scope = (
    1.0e6
    * np.array(range(len(scope_diff)))
    / shfqa_utils.SHFQA_SAMPLING_FREQUENCY
)

# Align the scope and pulse waves in time for the plot
offset = sync_tack - sync_tick
time_ticks_pulse = (
    1.0e6
    * np.array(range(offset, offset + len(pulse_diff)))
    / shfqa_utils.SHFQA_SAMPLING_FREQUENCY
)

plt.plot(time_ticks_scope, scope_diff)
plt.plot(time_ticks_pulse, pulse_diff)
plt.title("Pulse gradient")
plt.xlabel(r"t [$\mu$s]")
plt.legend(["scope", "pulse"])
plt.grid()
plt.show()
```
