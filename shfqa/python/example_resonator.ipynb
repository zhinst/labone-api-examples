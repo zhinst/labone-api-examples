{
 "cells": [
  {
   "cell_type": "markdown",
   "id": "dffc9c20",
   "metadata": {},
   "source": [
    "# Zurich Instruments LabOne Python API Example"
   ]
  },
  {
   "cell_type": "markdown",
   "id": "ed39e8fa",
   "metadata": {},
   "source": [
    "## Run a frequency sweep with a SHFQA"
   ]
  },
  {
   "cell_type": "markdown",
   "id": "eb680fb9",
   "metadata": {},
   "source": [
    "Run a frequency sweep with a SHFQA.\n",
    "\n",
    "Requirements:\n",
    "* LabOne Version >= 21.08\n",
    "* Instruments:\n",
    "    1 x SHFQA or SHFQC Instrument\n",
    "* Signal output 0 connected to signal input 0 with a BNC cable\n",
    "\n",
    "-----"
   ]
  },
  {
   "cell_type": "code",
   "execution_count": null,
   "id": "ccca9771",
   "metadata": {},
   "outputs": [],
   "source": [
    "import zhinst.core\n",
    "from zhinst.utils.shf_sweeper import (\n",
    "    ShfSweeper,\n",
    "    AvgConfig,\n",
    "    RfConfig,\n",
    "    SweepConfig,\n",
    ")"
   ]
  },
  {
   "cell_type": "markdown",
   "id": "7da10bdb",
   "metadata": {},
   "source": [
    "### 1. Connect the device"
   ]
  },
  {
   "cell_type": "markdown",
   "id": "b36e62d5",
   "metadata": {},
   "source": [
    "Set up the connection with the device. Firstly create an API session with a Data Server. Then the Data Server connects to the device."
   ]
  },
  {
   "cell_type": "code",
   "execution_count": null,
   "id": "c6505b5f",
   "metadata": {},
   "outputs": [],
   "source": [
    "device_id = \"dev2345\" # Device serial number available on its rear panel.\n",
    "interface = \"1GbE\" # For Ethernet connection\n",
    "#interface = \"USB\" # For USB connection\n",
    "\n",
    "server_host = \"localhost\"\n",
    "server_port = 8004\n",
    "api_level = 6 # Maximum API level supported for all instruments.\n",
    "\n",
    "# Create an API session to the Data Server.\n",
    "daq = zhinst.core.ziDAQServer(server_host, server_port, api_level)\n",
    "\n",
    "# Establish a connection between Data Server and Device.\n",
    "daq.connectDevice(device_id, interface)"
   ]
  },
  {
   "cell_type": "markdown",
   "id": "b09a718f",
   "metadata": {},
   "source": [
    "### 2. Create a Sweeper and configure it"
   ]
  },
  {
   "cell_type": "markdown",
   "id": "8bde82f9",
   "metadata": {},
   "source": [
    "Instantiate the sweeper."
   ]
  },
  {
   "cell_type": "code",
   "execution_count": null,
   "id": "6f3b7a80",
   "metadata": {},
   "outputs": [],
   "source": [
    "sweeper = ShfSweeper(daq, device_id)"
   ]
  },
  {
   "cell_type": "markdown",
   "id": "5c0f4dc0",
   "metadata": {},
   "source": [
    "Configure the sweeper."
   ]
  },
  {
   "cell_type": "code",
   "execution_count": null,
   "id": "dedb2354",
   "metadata": {},
   "outputs": [],
   "source": [
    "# Frequency range settings for the sweep\n",
    "sweep_config = SweepConfig(\n",
    "    start_freq=-200e6,\n",
    "    stop_freq=300e6,\n",
    "    num_points=51,\n",
    "    mapping=\"linear\",\n",
    "    oscillator_gain=0.8,\n",
    ")\n",
    "\n",
    "# Averaging settings for the sweep\n",
    "avg_config = AvgConfig(integration_time=100e-6, num_averages=2, mode=\"sequential\")\n",
    "\n",
    "# RF input and output settings for the sweep\n",
    "rf_config = RfConfig(channel=0, input_range=0, output_range=0, center_freq=4e9)\n",
    "\n",
    "\n",
    "sweeper.configure(sweep_config, avg_config, rf_config)\n"
   ]
  },
  {
   "cell_type": "markdown",
   "id": "3226ba22",
   "metadata": {},
   "source": [
    "### 3. Run the measurement and plot the data"
   ]
  },
  {
   "cell_type": "markdown",
   "id": "19298ba7",
   "metadata": {},
   "source": [
    "Turn on the input and output for the channel."
   ]
  },
  {
   "cell_type": "code",
   "execution_count": null,
   "id": "1b6c96c8",
   "metadata": {},
   "outputs": [],
   "source": [
    "daq.set(\n",
    "    [\n",
    "        (f\"/{device_id}/qachannels/{rf_config.channel}/input/on\", 1),\n",
    "        (f\"/{device_id}/qachannels/{rf_config.channel}/output/on\", 1),\n",
    "    ]\n",
    ")"
   ]
  },
  {
   "cell_type": "markdown",
   "id": "309fd0d4",
   "metadata": {},
   "source": [
    "Start a sweep."
   ]
  },
  {
   "cell_type": "code",
   "execution_count": null,
   "id": "58d9c06f",
   "metadata": {},
   "outputs": [],
   "source": [
    "sweeper.run()"
   ]
  },
  {
   "cell_type": "markdown",
   "id": "8b15d736",
   "metadata": {},
   "source": [
    "Get the result after the sweep."
   ]
  },
  {
   "cell_type": "code",
   "execution_count": null,
   "id": "0741b371",
   "metadata": {},
   "outputs": [],
   "source": [
    "result = sweeper.get_result()\n",
    "num_points_result = len(result[\"vector\"])\n",
    "print(f\"Measured at {num_points_result} frequency points.\")"
   ]
  },
  {
   "cell_type": "markdown",
   "id": "cad8f451",
   "metadata": {},
   "source": [
    "Plot the the result over the frequency."
   ]
  },
  {
   "cell_type": "code",
   "execution_count": null,
   "id": "8a247701",
   "metadata": {},
   "outputs": [],
   "source": [
    "sweeper.plot()"
   ]
  }
 ],
 "metadata": {
  "kernelspec": {
   "display_name": "Python 3.10.6 64-bit ('api_examples')",
   "language": "python",
   "name": "python3"
  }
 },
 "nbformat": 4,
 "nbformat_minor": 5
}