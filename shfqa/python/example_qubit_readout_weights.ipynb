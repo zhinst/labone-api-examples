{
 "cells": [
  {
   "cell_type": "markdown",
   "id": "c25d9a3a",
   "metadata": {},
   "source": [
    "# Zurich Instruments LabOne Python API Example"
   ]
  },
  {
   "cell_type": "markdown",
   "id": "d02f9a37",
   "metadata": {},
   "source": [
    "## Integration Weights Measurement"
   ]
  },
  {
   "cell_type": "markdown",
   "id": "8018953a",
   "metadata": {},
   "source": [
    "Measures the integration weights for a qubit readout assuming 8 qubits and using gaussian flat\n",
    "top pulses.\n",
    "\n",
    "Requirements:\n",
    "* LabOne Version >= 22.08\n",
    "* Instruments:\n",
    "        1 x SHFQA or SHFQC Instrument\n",
    "* Loopback configuration between input and output of channel 0\n",
    "\n",
    "-----"
   ]
  },
  {
   "cell_type": "code",
   "execution_count": null,
   "id": "4c81dfa9",
   "metadata": {},
   "outputs": [],
   "source": [
    "import zhinst\n",
    "import zhinst.utils.shfqa as shfqa_utils"
   ]
  },
  {
   "cell_type": "markdown",
   "id": "ff260ccc",
   "metadata": {},
   "source": [
    "### 1. Connect the device"
   ]
  },
  {
   "cell_type": "markdown",
   "id": "9ea32dc7",
   "metadata": {},
   "source": [
    "Set up the connection with the device. Firstly create an API session with a Data Server. Then the Data Server connects to the device."
   ]
  },
  {
   "cell_type": "code",
   "execution_count": null,
   "id": "6d232e9b",
   "metadata": {},
   "outputs": [],
   "source": [
    "device_id = \"dev2345\" # Device serial number available on its rear panel.\n",
    "interface = \"1GbE\" # For Ethernet connection\n",
    "#interface = \"USB\" # For USB connection\n",
    "\n",
    "server_host = \"localhost\"\n",
    "server_port = 8004\n",
    "api_level = 6 # Maximum API level supported for all instruments.\n",
    "\n",
    "# Create an API session to the Data Server.\n",
    "daq = zhinst.core.ziDAQServer(server_host, server_port, api_level)\n",
    "\n",
    "# Establish a connection between Data Server and Device.\n",
    "daq.connectDevice(device_id, interface)"
   ]
  },
  {
   "cell_type": "markdown",
   "id": "e13949b8",
   "metadata": {},
   "source": [
    "### 2. Configure the SHFQA channel and the scope"
   ]
  },
  {
   "cell_type": "markdown",
   "id": "8585308b",
   "metadata": {},
   "source": [
    "Define the parameters of the experiment."
   ]
  },
  {
   "cell_type": "code",
   "execution_count": null,
   "id": "24e3823f",
   "metadata": {},
   "outputs": [],
   "source": [
    "channel_index = 0\n",
    "num_qubits = 8\n",
    "readout_duration = 600e-9\n",
    "num_segments = 2\n",
    "num_averages = 50\n",
    "num_measurements = num_segments * num_averages\n",
    "scope_channel = 0"
   ]
  },
  {
   "cell_type": "markdown",
   "id": "82f7d0d3",
   "metadata": {},
   "source": [
    "Configure and enable the SHFQA channel."
   ]
  },
  {
   "cell_type": "code",
   "execution_count": null,
   "id": "164e6226",
   "metadata": {},
   "outputs": [],
   "source": [
    "# Configure the channel\n",
    "shfqa_utils.configure_channel(\n",
    "    daq,\n",
    "    device_id,\n",
    "    channel_index,\n",
    "    center_frequency=5e9,\n",
    "    input_range=0,\n",
    "    output_range=-5,\n",
    "    mode=\"readout\",\n",
    ")\n",
    "\n",
    "# Enable the channel\n",
    "daq.set(\n",
    "    [\n",
    "        (f\"/{device_id}/qachannels/{channel_index}/input/on\", 1),\n",
    "        (f\"/{device_id}/qachannels/{channel_index}/output/on\", 1),\n",
    "    ]\n",
    ")"
   ]
  },
  {
   "cell_type": "markdown",
   "id": "0782b1e0",
   "metadata": {},
   "source": [
    "Configure the scope."
   ]
  },
  {
   "cell_type": "code",
   "execution_count": null,
   "id": "7d492d17",
   "metadata": {},
   "outputs": [],
   "source": [
    "shfqa_utils.configure_scope(\n",
    "    daq,\n",
    "    device_id,\n",
    "    input_select={scope_channel: f\"channel{channel_index}_signal_input\"},\n",
    "    num_samples=int(readout_duration * shfqa_utils.SHFQA_SAMPLING_FREQUENCY),\n",
    "    trigger_input=f\"channel{channel_index}_sequencer_monitor0\",\n",
    "    num_segments=num_segments,\n",
    "    num_averages=num_averages,\n",
    "    # compensation for the delay between generator output and input of the integration unit\n",
    "    trigger_delay=200e-9,\n",
    ")"
   ]
  },
  {
   "cell_type": "markdown",
   "id": "f4dcbe7d",
   "metadata": {},
   "source": [
    "### 3. Generate and upload the waveforms"
   ]
  },
  {
   "cell_type": "markdown",
   "id": "b38b2376",
   "metadata": {},
   "source": [
    "Define the waveforms' parameters."
   ]
  },
  {
   "cell_type": "code",
   "execution_count": null,
   "id": "426df822",
   "metadata": {},
   "outputs": [],
   "source": [
    "import numpy as np\n",
    "\n",
    "# Parameters for the waveform\n",
    "frequencies = np.linspace(2e6, 32e6, num_qubits)\n",
    "pulse_duration = 500e-9\n",
    "rise_fall_time = 10e-9\n",
    "sampling_rate = shfqa_utils.SHFQA_SAMPLING_FREQUENCY\n",
    "scaling = 0.9\n",
    "\n",
    "rise_fall_len = int(rise_fall_time * sampling_rate)\n",
    "pulse_len = int(pulse_duration * sampling_rate)\n",
    "\n",
    "std_dev = rise_fall_len // 10"
   ]
  },
  {
   "cell_type": "markdown",
   "id": "2a054037",
   "metadata": {},
   "source": [
    "Generate the waveforms."
   ]
  },
  {
   "cell_type": "code",
   "execution_count": null,
   "id": "5ea47eff",
   "metadata": {},
   "outputs": [],
   "source": [
    "from scipy.signal import gaussian\n",
    "\n",
    "#  Generate flat top gaussian\n",
    "gauss = gaussian(2 * rise_fall_len, std_dev)\n",
    "flat_top_gaussian = np.ones(pulse_len)\n",
    "flat_top_gaussian[0:rise_fall_len] = gauss[0:rise_fall_len]\n",
    "flat_top_gaussian[-rise_fall_len:] = gauss[-rise_fall_len:]\n",
    "\n",
    "flat_top_gaussian *= scaling\n",
    "\n",
    "pulses = {}\n",
    "time_vec = np.linspace(0, pulse_duration, pulse_len)\n",
    "\n",
    "# Modulate complex sinusoids with flat top gaussian envelope\n",
    "for i, f in enumerate(frequencies):\n",
    "    pulses[i] = flat_top_gaussian * np.exp(2j * np.pi * f * time_vec)\n"
   ]
  },
  {
   "cell_type": "markdown",
   "id": "827dc4ac",
   "metadata": {},
   "source": [
    "Upload the waveforms."
   ]
  },
  {
   "cell_type": "code",
   "execution_count": null,
   "id": "78fdf2a5",
   "metadata": {},
   "outputs": [],
   "source": [
    "shfqa_utils.write_to_waveform_memory(\n",
    "    daq, device_id, channel_index, waveforms=pulses\n",
    ")"
   ]
  },
  {
   "cell_type": "markdown",
   "id": "664399f0",
   "metadata": {},
   "source": [
    "### 4. Run the experiment and plot the results"
   ]
  },
  {
   "cell_type": "markdown",
   "id": "4c8d5d93",
   "metadata": {},
   "source": [
    "Configure the sequencer."
   ]
  },
  {
   "cell_type": "code",
   "execution_count": null,
   "id": "c5c93864",
   "metadata": {},
   "outputs": [],
   "source": [
    "shfqa_utils.configure_sequencer_triggering(\n",
    "    daq, device_id, channel_index, aux_trigger=\"software_trigger0\"\n",
    ")"
   ]
  },
  {
   "cell_type": "markdown",
   "id": "94ec701f",
   "metadata": {},
   "source": [
    "Run the experiment for each qubit.\n",
    "\n",
    "> Note:\n",
    "> \n",
    "> Software triggering (`start_continuous_sw_trigger()`) is used for illustration purposes only. Use a real\n",
    "> trigger source for actual experiments."
   ]
  },
  {
   "cell_type": "code",
   "execution_count": null,
   "id": "f6b7d307",
   "metadata": {},
   "outputs": [],
   "source": [
    "weights = {}\n",
    "scopes = {}\n",
    "for i in range(num_qubits):\n",
    "\n",
    "    # Generate the sequencer program\n",
    "    seqc_program = f\"\"\"\n",
    "                repeat({num_measurements}) {{\n",
    "                    waitDigTrigger(1);\n",
    "                    startQA(QA_GEN_{i}, 0x0, true,  0, 0x0);\n",
    "                }}\n",
    "                \"\"\"\n",
    "    # Load the sequencer program\n",
    "    shfqa_utils.load_sequencer_program(\n",
    "        daq, device_id, channel_index, sequencer_program=seqc_program\n",
    "    )\n",
    "\n",
    "    # Start a measurement\n",
    "    shfqa_utils.enable_scope(daq, device_id, single=1)\n",
    "    shfqa_utils.enable_sequencer(daq, device_id, channel_index, single=1)\n",
    "    shfqa_utils.start_continuous_sw_trigger(\n",
    "        daq, device_id, num_triggers=num_measurements, wait_time=readout_duration\n",
    "    )\n",
    "\n",
    "    # Get results\n",
    "    scope_data, *_ = shfqa_utils.get_scope_data(daq, device_id, timeout=5)\n",
    "    scopes[i] = scope_data\n",
    "\n",
    "    # Calculate weights\n",
    "    split_data = np.split(scope_data[scope_channel], 2)\n",
    "    weights[i] = np.conj(split_data[1] - split_data[0])\n",
    "\n",
    "    \n",
    "\n",
    "weights\n"
   ]
  },
  {
   "cell_type": "markdown",
   "id": "b0e2b1d4",
   "metadata": {},
   "source": [
    "Plot the data measured with the scope for weight calculation."
   ]
  },
  {
   "cell_type": "code",
   "execution_count": null,
   "id": "1b0e9f47",
   "metadata": {},
   "outputs": [],
   "source": [
    "import matplotlib.pyplot as plt\n",
    "\n",
    "for i in range(num_qubits): \n",
    "    split_data = np.split(scopes[i][scope_channel], 2)\n",
    "    ground_state_data = split_data[0]\n",
    "    excited_state_data = split_data[1]\n",
    "\n",
    "    time_ticks = np.array(range(len(ground_state_data))) / sampling_rate\n",
    "\n",
    "    fig = plt.figure(1)\n",
    "    fig.suptitle(\"Scope measurement for readout weights\")\n",
    "\n",
    "    ax1 = plt.subplot(211)\n",
    "    ax1.plot(time_ticks, np.real(ground_state_data))\n",
    "    ax1.plot(time_ticks, np.imag(ground_state_data))\n",
    "    ax1.set_title(\"ground state\")\n",
    "    ax1.set_ylabel(\"voltage [V]\")\n",
    "    plt.setp(ax1.get_xticklabels(), visible=False)\n",
    "    ax1.xaxis.get_offset_text().set_visible(False)\n",
    "    ax1.grid()\n",
    "    plt.legend([\"real\", \"imag\"])\n",
    "\n",
    "    ax2 = plt.subplot(212, sharex=ax1)\n",
    "    ax2.plot(time_ticks, np.real(excited_state_data))\n",
    "    ax2.plot(time_ticks, np.imag(excited_state_data))\n",
    "    ax2.set_title(\"excited state\")\n",
    "    ax2.set_xlabel(\"t [s]\")\n",
    "    ax2.set_ylabel(\"voltage [V]\")\n",
    "    ax2.grid()\n",
    "\n",
    "    plt.show()"
   ]
  },
  {
   "cell_type": "markdown",
   "id": "d706a0a5",
   "metadata": {},
   "source": [
    "Plot the qubit readout weights."
   ]
  },
  {
   "cell_type": "code",
   "execution_count": null,
   "id": "9c3bddbe",
   "metadata": {},
   "outputs": [],
   "source": [
    "import matplotlib.pyplot as plt\n",
    "\n",
    "for i in range(num_qubits): \n",
    "    time_ticks = np.array(range(len(weights[i]))) / sampling_rate\n",
    "    plt.plot(time_ticks, np.real(weights[i]))\n",
    "    plt.plot(time_ticks, np.imag(weights[i]))\n",
    "    plt.title(\"Qubit readout weights\")\n",
    "    plt.xlabel(\"t [s]\")\n",
    "    plt.ylabel(\"weights [V]\")\n",
    "    plt.legend([\"real\", \"imag\"])\n",
    "    plt.grid()\n",
    "    plt.show()"
   ]
  }
 ],
 "metadata": {
  "jupytext": {
   "formats": "ipynb,md"
  },
  "kernelspec": {
   "display_name": "Python 3 (ipykernel)",
   "language": "python",
   "name": "python3"
  }
 },
 "nbformat": 4,
 "nbformat_minor": 5
}