{
 "cells": [
  {
   "cell_type": "markdown",
   "id": "b1db3661",
   "metadata": {},
   "source": [
    "# Zurich Instruments LabOne Python API Example"
   ]
  },
  {
   "cell_type": "markdown",
   "id": "5d73e448",
   "metadata": {},
   "source": [
    "## Multiplexed read-out of 8 qubits"
   ]
  },
  {
   "cell_type": "markdown",
   "id": "55a7afa8",
   "metadata": {},
   "source": [
    "Perform the multiplexed read-out of 8 qubits in parallel.\n",
    "\n",
    "Requirements:\n",
    "* LabOne Version >= 22.08\n",
    "* Instruments:\n",
    "    1 x SHFQA or SHFQC Instrument\n",
    "* Loopback configuration between input and output of channel 0\n",
    "\n",
    "----"
   ]
  },
  {
   "cell_type": "code",
   "execution_count": null,
   "id": "10e58d87",
   "metadata": {},
   "outputs": [],
   "source": [
    "import zhinst.core\n",
    "import zhinst.utils.shfqa as shfqa_utils"
   ]
  },
  {
   "cell_type": "markdown",
   "id": "b8dd2dc1",
   "metadata": {},
   "source": [
    "### 1. Connect the device"
   ]
  },
  {
   "cell_type": "markdown",
   "id": "cfaf250b",
   "metadata": {},
   "source": [
    "Set up the connection with the device. Firstly create an API session with a Data Server. Then the Data Server connects to the device."
   ]
  },
  {
   "cell_type": "code",
   "execution_count": null,
   "id": "6ed035bc",
   "metadata": {},
   "outputs": [],
   "source": [
    "device_id = \"dev2345\" # Device serial number available on its rear panel.\n",
    "interface = \"1GbE\" # For Ethernet connection\n",
    "#interface = \"USB\" # For USB connection\n",
    "\n",
    "server_host = \"localhost\"\n",
    "server_port = 8004\n",
    "api_level = 6 # Maximum API level supported for all instruments.\n",
    "\n",
    "# Create an API session to the Data Server.\n",
    "daq = zhinst.core.ziDAQServer(server_host, server_port, api_level)\n",
    "\n",
    "# Establish a connection between Data Server and Device.\n",
    "daq.connectDevice(device_id, interface)"
   ]
  },
  {
   "cell_type": "markdown",
   "id": "abb186e8",
   "metadata": {},
   "source": [
    "### 2. Configure the SHFQA channel"
   ]
  },
  {
   "cell_type": "markdown",
   "id": "a39555e2",
   "metadata": {},
   "source": [
    "Define the parameters of the experiment."
   ]
  },
  {
   "cell_type": "code",
   "execution_count": null,
   "id": "d1344bec",
   "metadata": {},
   "outputs": [],
   "source": [
    "channel_index = 0\n",
    "num_qubits = 8\n",
    "num_readouts = 100"
   ]
  },
  {
   "cell_type": "markdown",
   "id": "e049f5f6",
   "metadata": {},
   "source": [
    "Configure the SHFQA channel."
   ]
  },
  {
   "cell_type": "code",
   "execution_count": null,
   "id": "fe4f6640",
   "metadata": {},
   "outputs": [],
   "source": [
    "shfqa_utils.configure_channel(\n",
    "    daq,\n",
    "    device_id,\n",
    "    channel_index,\n",
    "    center_frequency=5e9,\n",
    "    input_range=0,\n",
    "    output_range=-5,\n",
    "    mode=\"readout\",\n",
    ")"
   ]
  },
  {
   "cell_type": "markdown",
   "id": "8fafac30",
   "metadata": {},
   "source": [
    "Turn on the input and output of the channel."
   ]
  },
  {
   "cell_type": "code",
   "execution_count": null,
   "id": "b9ef52ad",
   "metadata": {},
   "outputs": [],
   "source": [
    "daq.set(\n",
    "    [\n",
    "        (f\"/{device_id}/qachannels/{channel_index}/input/on\", 1),\n",
    "        (f\"/{device_id}/qachannels/{channel_index}/output/on\", 1),\n",
    "    ]\n",
    ")"
   ]
  },
  {
   "cell_type": "markdown",
   "id": "00e8c2d3",
   "metadata": {},
   "source": [
    "### 3. Generate and upload the waveforms and integration weights"
   ]
  },
  {
   "cell_type": "markdown",
   "id": "798f0e85",
   "metadata": {},
   "source": [
    "Define the waveforms' parameters."
   ]
  },
  {
   "cell_type": "code",
   "execution_count": null,
   "id": "f80ac3d6",
   "metadata": {},
   "outputs": [],
   "source": [
    "import numpy as np\n",
    "\n",
    "# Configuration parameter for the waveform\n",
    "scaling = 0.9 / num_qubits\n",
    "frequencies = np.linspace(32e6, 230e6, num_qubits)\n",
    "pulse_duration = 500e-9\n",
    "rise_fall_time = 10e-9\n",
    "sampling_rate = shfqa_utils.SHFQA_SAMPLING_FREQUENCY\n",
    "scaling = scaling\n",
    "\n",
    "rise_fall_len = int(rise_fall_time * sampling_rate)\n",
    "pulse_len = int(pulse_duration * sampling_rate)\n",
    "std_dev = rise_fall_len // 10"
   ]
  },
  {
   "cell_type": "markdown",
   "id": "81213151",
   "metadata": {},
   "source": [
    "Generate the waveforms."
   ]
  },
  {
   "cell_type": "code",
   "execution_count": null,
   "id": "6889f100",
   "metadata": {},
   "outputs": [],
   "source": [
    "from scipy.signal import gaussian\n",
    "\n",
    "# Create a flat top gaussian\n",
    "gauss = gaussian(2 * rise_fall_len, std_dev)\n",
    "flat_top_gaussian = np.ones(pulse_len)\n",
    "flat_top_gaussian[0:rise_fall_len] = gauss[0:rise_fall_len]\n",
    "flat_top_gaussian[-rise_fall_len:] = gauss[-rise_fall_len:]\n",
    "\n",
    "flat_top_gaussian *= scaling\n",
    "\n",
    "# Modulate complex sinusoids with flat top gaussian\n",
    "readout_pulses = {}\n",
    "time_vec = np.linspace(0, pulse_duration, pulse_len)\n",
    "\n",
    "for i, f in enumerate(frequencies):\n",
    "    readout_pulses[i] = flat_top_gaussian * np.exp(2j * np.pi * f * time_vec)"
   ]
  },
  {
   "cell_type": "markdown",
   "id": "d927d434",
   "metadata": {},
   "source": [
    "Upload the waveforms to memory."
   ]
  },
  {
   "cell_type": "code",
   "execution_count": null,
   "id": "1e68cf2a",
   "metadata": {},
   "outputs": [],
   "source": [
    "shfqa_utils.write_to_waveform_memory(\n",
    "    daq, device_id, channel_index, waveforms=readout_pulses\n",
    ")"
   ]
  },
  {
   "cell_type": "markdown",
   "id": "3f7e7d83",
   "metadata": {},
   "source": [
    "Generate the integration weights."
   ]
  },
  {
   "cell_type": "code",
   "execution_count": null,
   "id": "7ce0db81",
   "metadata": {},
   "outputs": [],
   "source": [
    "weights = {}\n",
    "for waveform_slot, pulse in readout_pulses.items():\n",
    "    weights[waveform_slot] = np.conj(pulse * np.exp(1j))"
   ]
  },
  {
   "cell_type": "markdown",
   "id": "16b2c04e",
   "metadata": {},
   "source": [
    "Configure the weighted integration."
   ]
  },
  {
   "cell_type": "code",
   "execution_count": null,
   "id": "8df2d6e8",
   "metadata": {},
   "outputs": [],
   "source": [
    "shfqa_utils.configure_weighted_integration(\n",
    "    daq,\n",
    "    device_id,\n",
    "    channel_index,\n",
    "    weights=weights,\n",
    "    # compensation for the delay between generator output and input of the integration unit\n",
    "    integration_delay=200e-9,\n",
    ")\n",
    "shfqa_utils.configure_result_logger_for_readout(\n",
    "    daq,\n",
    "    device_id,\n",
    "    channel_index,\n",
    "    result_source=\"result_of_integration\",\n",
    "    result_length=num_readouts,\n",
    ")"
   ]
  },
  {
   "cell_type": "markdown",
   "id": "f99d75b1",
   "metadata": {},
   "source": [
    "Configure and load the sequencer."
   ]
  },
  {
   "cell_type": "code",
   "execution_count": null,
   "id": "9306bf92",
   "metadata": {},
   "outputs": [],
   "source": [
    "# Configure the sequence triggering\n",
    "shfqa_utils.configure_sequencer_triggering(\n",
    "    daq, device_id, channel_index, aux_trigger=\"software_trigger0\"\n",
    ")\n",
    "\n",
    "# Define the sequencer program\n",
    "seqc_program = f\"\"\"\\\n",
    "repeat({num_readouts})\n",
    "{{\n",
    "    waitDigTrigger(1);\n",
    "    startQA(QA_GEN_ALL, QA_INT_ALL, true, 0, 0x0);\n",
    "}}\n",
    "\"\"\"\n",
    "\n",
    "# Load the sequencer program\n",
    "shfqa_utils.load_sequencer_program(\n",
    "    daq, device_id, channel_index, sequencer_program=seqc_program\n",
    ")\n"
   ]
  },
  {
   "cell_type": "markdown",
   "id": "10a2f614",
   "metadata": {},
   "source": [
    "### 4. Run the experiment"
   ]
  },
  {
   "cell_type": "markdown",
   "id": "b04bbd12",
   "metadata": {},
   "source": [
    "Run the experiment.\n",
    "\n",
    "> Note:\n",
    "> \n",
    "> Software triggering (`start_continuous_sw_trigger()`) is used for illustration purposes only. Use a real\n",
    "> trigger source for actual experiments."
   ]
  },
  {
   "cell_type": "code",
   "execution_count": null,
   "id": "15ba3cad",
   "metadata": {},
   "outputs": [],
   "source": [
    "shfqa_utils.enable_result_logger(daq, device_id, channel_index, mode=\"readout\")\n",
    "\n",
    "shfqa_utils.enable_sequencer(daq, device_id, channel_index, single=1)\n",
    "\n",
    "shfqa_utils.start_continuous_sw_trigger(\n",
    "    daq, device_id, num_triggers=num_readouts, wait_time=2e-3\n",
    ")\n"
   ]
  },
  {
   "cell_type": "markdown",
   "id": "eac88e09",
   "metadata": {},
   "source": [
    "Get the data."
   ]
  },
  {
   "cell_type": "code",
   "execution_count": null,
   "id": "abb92e79",
   "metadata": {},
   "outputs": [],
   "source": [
    "readout_results = shfqa_utils.get_result_logger_data(\n",
    "    daq, device_id, channel_index, mode=\"readout\"\n",
    ")"
   ]
  },
  {
   "cell_type": "markdown",
   "id": "da472a12",
   "metadata": {},
   "source": [
    "Plot the result."
   ]
  },
  {
   "cell_type": "code",
   "execution_count": null,
   "id": "d943b606",
   "metadata": {},
   "outputs": [],
   "source": [
    "import matplotlib.pyplot as plt\n",
    "\n",
    "max_value = 0\n",
    "\n",
    "plt.rcParams[\"figure.figsize\"] = [10, 10]\n",
    "\n",
    "# Plot the results on real-imag plane\n",
    "for complex_number in readout_results[:num_qubits]:\n",
    "    real = np.real(complex_number)\n",
    "    imag = np.imag(complex_number)\n",
    "\n",
    "    plt.plot(real, imag, \"x\")\n",
    "\n",
    "    max_value = max(max_value, max(abs(real)))\n",
    "    max_value = max(max_value, max(abs(imag)))\n",
    "\n",
    "# Zoom so that the origin is in the middle\n",
    "max_value *= 1.05\n",
    "plt.xlim([-max_value, max_value])\n",
    "plt.ylim([-max_value, max_value])\n",
    "\n",
    "plt.legend(range(num_qubits))\n",
    "plt.title(\"qubit readout results\")\n",
    "plt.xlabel(\"real part\")\n",
    "plt.ylabel(\"imaginary part\")\n",
    "plt.grid()\n",
    "plt.show()"
   ]
  }
 ],
 "metadata": {
  "kernelspec": {
   "display_name": "Python 3.10.6 64-bit ('api_examples')",
   "language": "python",
   "name": "python3"
  }
 },
 "nbformat": 4,
 "nbformat_minor": 5
}