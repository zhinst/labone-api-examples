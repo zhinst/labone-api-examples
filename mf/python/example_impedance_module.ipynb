{
 "cells": [
  {
   "cell_type": "markdown",
   "id": "4c115cb0",
   "metadata": {},
   "source": [
    "# Zurich Instruments LabOne Python API Example\n",
    "# Use the Impedance Module\n",
    "\n",
    "Demonstrate how the LabOne Impedance Module can be used to do a user\n",
    "compensation (calibration).\n",
    "\n",
    "Requirements:\n",
    "\n",
    "* LabOne Version >= 22.08\n",
    "* Instruments:\n",
    "    1 x Instrument with IA option"
   ]
  },
  {
   "cell_type": "code",
   "execution_count": null,
   "id": "5aa7eae5",
   "metadata": {},
   "outputs": [],
   "source": [
    "from zhinst.core import ziDAQServer\n",
    "\n",
    "device_id = \"dev3519\" # Device serial number available on its rear panel.\n",
    "interface = \"1GbE\" # For Ethernet connection or when MFLI/MFIA is connected to a remote Data Server.\n",
    "#interface = \"USB\" # For all instruments connected to the host computer via USB except MFLI/MFIA.\n",
    "#interface = \"PCIe\" # For MFLI/MFIA devices in case the Data Server runs on the device.\n",
    "\n",
    "server_host = \"localhost\"\n",
    "server_port = 8004\n",
    "api_level = 6 # Maximum API level supported for all instruments.\n",
    "\n",
    "# Create an API session to the Data Server.\n",
    "daq = ziDAQServer(server_host, server_port, api_level)\n",
    "# Establish a connection between Data Server and Device.\n",
    "daq.connectDevice(device_id, interface)"
   ]
  },
  {
   "cell_type": "markdown",
   "id": "0ef1a6b7",
   "metadata": {},
   "source": [
    "### Instrument settings"
   ]
  },
  {
   "cell_type": "code",
   "execution_count": null,
   "id": "654ea8cf",
   "metadata": {},
   "outputs": [],
   "source": [
    "settings = []\n",
    "device_imp_path = f\"{device_id}/imps/0/\"\n",
    "settings.append((device_imp_path + \"enable\", 1))\n",
    "settings.append((device_imp_path + \"mode\", 0))\n",
    "settings.append((device_imp_path + \"auto/output\", 1))\n",
    "settings.append((device_imp_path + \"auto/bw\", 1))\n",
    "settings.append((device_imp_path + \"auto/inputrange\", 1))\n",
    "settings.append((device_imp_path + \"freq\", 1000))\n",
    "settings.append((device_imp_path + \"output/amplitude\", 0.3))\n",
    "settings.append((device_imp_path + \"output/range\", 1))\n",
    "settings.append((device_imp_path + \"model\", 0))\n",
    "daq.set(settings)"
   ]
  },
  {
   "cell_type": "markdown",
   "id": "a2a761fd",
   "metadata": {},
   "source": [
    "### User compensation setup"
   ]
  },
  {
   "cell_type": "code",
   "execution_count": null,
   "id": "0a14120f",
   "metadata": {},
   "outputs": [],
   "source": [
    "module = daq.impedanceModule()\n",
    "\n",
    "# Start the module\n",
    "module.execute()\n",
    "\n",
    "module.set(\"/device\", device_id)\n",
    "# Set frequency range from 1000 to 5000000 with 20 number of samples\n",
    "module.set(\"/freq/start\", 1000)\n",
    "module.set(\"/freq/stop\", 5000000)\n",
    "module.set(\"/freq/samplecount\", 20)\n",
    "# Disabling the validation for demonstration prupose.\n",
    "# (this allows everything to pass, in case the short is much higher than 0 Ohm.)\n",
    "module.set(\"/validation\", 0)\n",
    "# Short only mode with additional open step\n",
    "# 1 = Short\n",
    "# 4 = Load\n",
    "# 5 = Short Load\n",
    "# 8 = Load Load Load\n",
    "# Note that the additional open step can be added to all of the options above\n",
    "# except the Load Load Load option.\n",
    "module.set(\"/mode\", 1)\n",
    "module.set(\"/openstep\", 1)"
   ]
  },
  {
   "cell_type": "markdown",
   "id": "cc86cb84",
   "metadata": {},
   "source": [
    "Define the helper functions to track the progress of the impedance module."
   ]
  },
  {
   "cell_type": "code",
   "execution_count": null,
   "id": "600a3fd3",
   "metadata": {},
   "outputs": [],
   "source": [
    "from zhinst.core import ImpedanceModule\n",
    "import typing as t\n",
    "import time\n",
    "\n",
    "def finished_step(module: ImpedanceModule, step: t.Optional[int] = None) -> bool:\n",
    "    \"\"\"Check if the calibration or a step of it is finished.\n",
    "\n",
    "    Args:\n",
    "        step: Calibration step. If not None this function checks if the\n",
    "            specified step is finished. Otherwise it checks if the\n",
    "            whole calibration is done.\n",
    "\n",
    "    Returns:\n",
    "        Flag if the calibration or a step is finished.\n",
    "    \"\"\"\n",
    "    if step is None:\n",
    "        return module.getInt(\"/status\") == module.getInt(\"/expectedstatus\")\n",
    "    return module.getInt(\"/status\") & (1 << step)\n",
    "\n",
    "def wait_done(\n",
    "    module: ImpedanceModule,\n",
    "    step: t.Optional[int] = None,\n",
    "    *,\n",
    "    timeout: float = 20.0,\n",
    "    sleep_time: float = 0.5,\n",
    ") -> None:\n",
    "    \"\"\"Waits until the specified compensation step is complete.\n",
    "\n",
    "    Args:\n",
    "        step: The compensation step to wait for completion.\n",
    "        timeout: The maximum waiting time in seconds for the compensation\n",
    "            to complete (default: 20).\n",
    "        sleep_time: Time in seconds to wait between\n",
    "            requesting the state. (default: 0.5)\n",
    "\n",
    "    Raises:\n",
    "        TimeoutError: The compensation is not completed before timeout.\n",
    "    \"\"\"\n",
    "    start_time = time.time()\n",
    "    while (\n",
    "        start_time + timeout >= time.time()\n",
    "        and module.getInt(\"/calibrate\")\n",
    "        and not finished_step(module, step)\n",
    "    ):\n",
    "        print(f\"Progress: {(module.progress()[0] * 100):.1f}%\")\n",
    "        time.sleep(sleep_time)\n",
    "    if module.progress()[0] < 1:\n",
    "        raise TimeoutError(\"Impedance module timed out.\")\n",
    "    if not finished_step(module, step):\n",
    "        if step is None:\n",
    "            raise RuntimeError(\n",
    "                \"Impedance module did not reach the status \"\n",
    "                f\"{module.getInt('/expectedstatus')} that \"\n",
    "                \"corresponds to a full compensation. \"\n",
    "                f\"(current status: {module.getInt('/status')})\"\n",
    "            )\n",
    "        raise RuntimeError(\n",
    "            f\"Impedance module did not finish the requested step {step}. \"\n",
    "            f\"(current status: {module.getInt('/status')})\"\n",
    "        )"
   ]
  },
  {
   "cell_type": "markdown",
   "id": "6aed710f",
   "metadata": {},
   "source": [
    "### Short compensation\n",
    "\n",
    "The first compensation step is the `Short` step."
   ]
  },
  {
   "cell_type": "code",
   "execution_count": null,
   "id": "d00195dc",
   "metadata": {},
   "outputs": [],
   "source": [
    "step = 0\n",
    "module.set(\"/step\", step)\n",
    "module.set(\"/calibrate\", 1)\n",
    "wait_done(module, step=step, sleep_time=2)"
   ]
  },
  {
   "cell_type": "markdown",
   "id": "03bd5238",
   "metadata": {},
   "source": [
    "Log messages from the impedance module during the first (short) calibration step."
   ]
  },
  {
   "cell_type": "code",
   "execution_count": null,
   "id": "0113a9ee",
   "metadata": {},
   "outputs": [],
   "source": [
    "import html\n",
    "print(html.unescape(module.getString(\"/message\")))"
   ]
  },
  {
   "cell_type": "markdown",
   "id": "4f4bcf5b",
   "metadata": {},
   "source": [
    "### Open compensation\n",
    "Please change from short into open now."
   ]
  },
  {
   "cell_type": "code",
   "execution_count": null,
   "id": "098a2407",
   "metadata": {},
   "outputs": [],
   "source": [
    "step = 1\n",
    "module.set(\"/step\", step)\n",
    "module.set(\"/calibrate\", 1)\n",
    "wait_done(module, step=step, sleep_time=2)"
   ]
  },
  {
   "cell_type": "markdown",
   "id": "417110cd",
   "metadata": {},
   "source": [
    "Log messages from the impedance module during the second (open) calibration step."
   ]
  },
  {
   "cell_type": "code",
   "execution_count": null,
   "id": "1e5e636e",
   "metadata": {},
   "outputs": [],
   "source": [
    "import html\n",
    "print(html.unescape(module.getString(\"/message\")))"
   ]
  },
  {
   "cell_type": "markdown",
   "id": "5f10bc82",
   "metadata": {},
   "source": [
    "### Save and upload compensation file"
   ]
  },
  {
   "cell_type": "code",
   "execution_count": null,
   "id": "2b69f1a1",
   "metadata": {},
   "outputs": [],
   "source": [
    "module.set(\"/todevice\", 1)"
   ]
  },
  {
   "cell_type": "code",
   "execution_count": null,
   "id": "9d5af128",
   "metadata": {},
   "outputs": [],
   "source": [
    "from pathlib import Path\n",
    "\n",
    "target_path = Path(\"testcal\")\n",
    "module.set(\"/directory\", str(target_path.parent.absolute()))\n",
    "module.set(\"/filename\", target_path.stem)\n",
    "module.set(\"/save\", 1)\n",
    "\n",
    "# Use this to apply the just finished short-open compensation\n",
    "# module.set(\"/load\", 1)"
   ]
  }
 ],
 "metadata": {
  "jupytext": {
   "formats": "ipynb,md"
  },
  "kernelspec": {
   "display_name": "Python",
   "language": "python",
   "name": "python3"
  }
 },
 "nbformat": 4,
 "nbformat_minor": 5
}