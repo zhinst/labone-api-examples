{
 "cells": [
  {
   "cell_type": "markdown",
   "id": "588bca0c",
   "metadata": {},
   "source": [
    "# Zurich Instruments LabOne Python API Example\n",
    "# Connect to a Zurich Instruments HF2 device\n",
    "\n",
    "Demonstrate how to connect to a Zurich Instruments HF2 device via the Data Server\n",
    "program.\n",
    "Create an API session by connecting to a Zurich Instruments\n",
    "device via the Data Server, ensure the demodulators are enabled and obtain a\n",
    "single demodulator sample via getSample(). Calculate the sample's RMS\n",
    "amplitude and add it as a field to the \"sample\" dictionary.\n",
    "\n",
    "> Note:\n",
    ">\n",
    "> This is intended to be a simple example demonstrating how to connect to a\n",
    "> Zurich Instruments device from ziPython. In most cases, data acquisition\n",
    "> should use either ziDAQServer's poll() method or an instance of the\n",
    "> ziDAQRecorder class, not the getSample() method.\n",
    "\n",
    "Requirements:\n",
    "* LabOne Version >= 20.02\n",
    "* Instruments:\n",
    "    1 x Zurich Instruments HF2 device\n",
    "\n",
    "---"
   ]
  },
  {
   "cell_type": "code",
   "execution_count": null,
   "id": "b2c5bbc9",
   "metadata": {},
   "outputs": [],
   "source": [
    "import numpy as np\n",
    "import zhinst.ziPython"
   ]
  },
  {
   "cell_type": "markdown",
   "id": "aa79fb71",
   "metadata": {},
   "source": [
    "Set up the connection. The connection is always through a session to a\n",
    "Data Server. The Data Server then connects to the device.\n",
    "\n",
    "The LabOne Data Server needs to run within the network, either on localhost when\n",
    "starting LabOne on your local computer or a remote server. (The MFLI/IA devices\n",
    "have a Data Server running on the device itself, please see the\n",
    "[user manual](https://docs.zhinst.com/mfli_user_manual/getting_started/device_connectivity_instrument.html)\n",
    "for detailed explanation.)"
   ]
  },
  {
   "cell_type": "code",
   "execution_count": null,
   "id": "afc45fd7",
   "metadata": {},
   "outputs": [],
   "source": [
    "device_id = \"dev1234\" # Device serial number available on its rear panel.\n",
    "interface = \"USB\"\n",
    "\n",
    "server_host = \"localhost\"\n",
    "server_port = 8005\n",
    "api_level = 1\n",
    "\n",
    "# Create an API session to the Data Server.\n",
    "daq = zhinst.ziPython.ziDAQServer(server_host, server_port, api_level)\n",
    "# Establish a connection between Data Server and Device.\n",
    "daq.connectDevice(device_id, interface)"
   ]
  },
  {
   "cell_type": "markdown",
   "id": "df8d68f3",
   "metadata": {},
   "source": [
    "Enable the demodulator and set the demodulator output rate."
   ]
  },
  {
   "cell_type": "code",
   "execution_count": null,
   "id": "a8b5ef0c",
   "metadata": {},
   "outputs": [],
   "source": [
    "settings = [\n",
    "    (f\"/{device_id}/demods/0/enable\", 1),\n",
    "    (f\"/{device_id}/demods/0/rate\", 1.0e3)\n",
    "]\n",
    "daq.set(settings)"
   ]
  },
  {
   "cell_type": "markdown",
   "id": "4546bf05",
   "metadata": {},
   "source": [
    "Obtain one demodulator sample. If the demodulator is not enabled (as\n",
    "above) then the command will time out: we'll get a RuntimeError showing\n",
    "that a `ZIAPITimeoutException` occurred."
   ]
  },
  {
   "cell_type": "code",
   "execution_count": null,
   "id": "19068edd",
   "metadata": {},
   "outputs": [],
   "source": [
    "sample = daq.getSample(f\"/{device_id}/demods/0/sample\")"
   ]
  },
  {
   "cell_type": "markdown",
   "id": "207cdc46",
   "metadata": {},
   "source": [
    "Extract the in-phase and quadrature components of demodulated signal."
   ]
  },
  {
   "cell_type": "code",
   "execution_count": null,
   "id": "3dd77004",
   "metadata": {},
   "outputs": [],
   "source": [
    "X = sample['x'][0]\n",
    "Y = sample['y'][0]\n",
    "print(f\"Measured in-phase component:\\t {X:.3e} V\")\n",
    "print(f\"Measured quadrature component:\\t {Y:.3e} V\")"
   ]
  },
  {
   "cell_type": "markdown",
   "id": "9f4c59cc",
   "metadata": {},
   "source": [
    "Calculate the RMS amplitude and phase of demodulated signal.."
   ]
  },
  {
   "cell_type": "code",
   "execution_count": null,
   "id": "973ada8c",
   "metadata": {},
   "outputs": [],
   "source": [
    "R = np.abs(X + 1j*Y)\n",
    "Theta = np.arctan2(Y,X)\n",
    "print(f\"Measured RMS amplitude:\\t {R:.3e} V\")\n",
    "print(f\"Measured signal phase:\\t {(180/np.pi)*Theta:.2f} deg\")"
   ]
  }
 ],
 "metadata": {
  "jupytext": {
   "formats": "ipynb,md"
  },
  "kernelspec": {
   "display_name": "Python",
   "language": "python",
   "name": "python3"
  }
 },
 "nbformat": 4,
 "nbformat_minor": 5
}